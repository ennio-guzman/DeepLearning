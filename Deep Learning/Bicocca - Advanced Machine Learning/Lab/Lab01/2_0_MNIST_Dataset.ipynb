{
  "nbformat": 4,
  "nbformat_minor": 0,
  "metadata": {
    "colab": {
      "name": "2.0 - MNIST Dataset.ipynb",
      "provenance": [],
      "collapsed_sections": [],
      "include_colab_link": true
    },
    "language_info": {
      "codemirror_mode": {
        "name": "ipython",
        "version": 3
      },
      "file_extension": ".py",
      "mimetype": "text/x-python",
      "name": "python",
      "nbconvert_exporter": "python",
      "pygments_lexer": "ipython3",
      "version": "3.6.1"
    },
    "kernelspec": {
      "display_name": "Python 3",
      "language": "python",
      "name": "python3"
    }
  },
  "cells": [
    {
      "cell_type": "markdown",
      "metadata": {
        "id": "view-in-github",
        "colab_type": "text"
      },
      "source": [
        "<a href=\"https://colab.research.google.com/github/ennioguzman91/DeepLearning/blob/master/Deep%20Learning/Bicocca%20-%20Advanced%20Machine%20Learning/Lab/Lab01/2_0_MNIST_Dataset.ipynb\" target=\"_parent\"><img src=\"https://colab.research.google.com/assets/colab-badge.svg\" alt=\"Open In Colab\"/></a>"
      ]
    },
    {
      "cell_type": "markdown",
      "metadata": {
        "id": "OIyhcXlpAhcq"
      },
      "source": [
        "# MNIST Dataset"
      ]
    },
    {
      "cell_type": "markdown",
      "metadata": {
        "id": "Yw6wSFYcAhcs"
      },
      "source": [
        "### Also known as `digits` if you're familiar with `sklearn`:\n",
        "\n",
        "```python\n",
        "\n",
        "from sklearn.datasets import digits\n",
        "\n",
        "```"
      ]
    },
    {
      "cell_type": "markdown",
      "metadata": {
        "id": "DJGQhUnEAhcu"
      },
      "source": [
        "## Problem Definition\n",
        "\n",
        "*Recognize handwritten digits*\n",
        "\n",
        "\n",
        "![](https://miro.medium.com/max/530/1*VAjYygFUinnygIx9eVCrQQ.png)\n"
      ]
    },
    {
      "cell_type": "markdown",
      "metadata": {
        "id": "luxOWm9mAhcv"
      },
      "source": [
        "## Data\n",
        "\n",
        "The MNIST database ([link](http://yann.lecun.com/exdb/mnist)) has a database of handwritten digits. \n",
        "\n",
        "The training set has $60,000$ samples. \n",
        "The test set has $10,000$ samples.\n",
        "\n",
        "The digits are size-normalized and centered in a fixed-size image. \n",
        "\n",
        "The data page has description on how the data was collected. It also has reports the benchmark of various algorithms on the test dataset. "
      ]
    },
    {
      "cell_type": "markdown",
      "metadata": {
        "id": "CpFWO8qDAhcx"
      },
      "source": [
        "### Load the data\n",
        "\n",
        "The data is available in the repo's `data` folder. Let's load that using the `keras` library. \n",
        "\n",
        "For now, let's load the data and see how it looks."
      ]
    },
    {
      "cell_type": "code",
      "metadata": {
        "id": "plkebQ1yAhcy",
        "colab": {
          "base_uri": "https://localhost:8080/",
          "height": 35
        },
        "outputId": "25fb975d-04de-4e25-d651-f70ee6790325"
      },
      "source": [
        "import numpy as np\n",
        "import keras\n",
        "from keras.datasets import mnist"
      ],
      "execution_count": null,
      "outputs": [
        {
          "output_type": "stream",
          "text": [
            "Using TensorFlow backend.\n"
          ],
          "name": "stderr"
        }
      ]
    },
    {
      "cell_type": "code",
      "metadata": {
        "code_folding": [],
        "id": "9ef9N5EZAhc9",
        "colab": {
          "base_uri": "https://localhost:8080/",
          "height": 52
        },
        "outputId": "d480901e-e8f3-4b6b-f22a-18b3eb6d417c"
      },
      "source": [
        "# Load the datasets\n",
        "(X_train, y_train), (X_test, y_test) = mnist.load_data()"
      ],
      "execution_count": null,
      "outputs": [
        {
          "output_type": "stream",
          "text": [
            "Downloading data from https://s3.amazonaws.com/img-datasets/mnist.npz\n",
            "11493376/11490434 [==============================] - 0s 0us/step\n"
          ],
          "name": "stdout"
        }
      ]
    },
    {
      "cell_type": "markdown",
      "metadata": {
        "id": "SfeWxCFuAhdB"
      },
      "source": [
        "# Basic data analysis on the dataset"
      ]
    },
    {
      "cell_type": "code",
      "metadata": {
        "id": "w943arX4AhdC"
      },
      "source": [
        "# What is the type of X_train?\n"
      ],
      "execution_count": null,
      "outputs": []
    },
    {
      "cell_type": "code",
      "metadata": {
        "id": "5cyQz-99AhdH"
      },
      "source": [
        "# What is the type of y_train?\n"
      ],
      "execution_count": null,
      "outputs": []
    },
    {
      "cell_type": "code",
      "metadata": {
        "id": "rfj8zp6EAhdM"
      },
      "source": [
        "# Find number of observations in training data\n"
      ],
      "execution_count": null,
      "outputs": []
    },
    {
      "cell_type": "code",
      "metadata": {
        "id": "Y98iDFNuAhdQ"
      },
      "source": [
        "# Find number of observations in test data\n"
      ],
      "execution_count": null,
      "outputs": []
    },
    {
      "cell_type": "code",
      "metadata": {
        "id": "G3g7fqYNAhdV"
      },
      "source": [
        "# Display first 2 records of X_train\n"
      ],
      "execution_count": null,
      "outputs": []
    },
    {
      "cell_type": "code",
      "metadata": {
        "id": "CTVGyQdGAhde"
      },
      "source": [
        "# Which is the first element of y_train?\n"
      ],
      "execution_count": null,
      "outputs": []
    },
    {
      "cell_type": "code",
      "metadata": {
        "id": "eKKSKcTgAhdj"
      },
      "source": [
        "# Find the number of observations for each digit in the y_train dataset.\n",
        "# Which is the most frequent class?\n"
      ],
      "execution_count": null,
      "outputs": []
    },
    {
      "cell_type": "code",
      "metadata": {
        "id": "MiPX4wYxAhdo"
      },
      "source": [
        "# Find the number of observations for each digit in the y_test dataset \n",
        "# Which is the most frequent class?\n"
      ],
      "execution_count": null,
      "outputs": []
    },
    {
      "cell_type": "code",
      "metadata": {
        "id": "WGJd73mvAhdv"
      },
      "source": [
        "# What is the dimension of X_train?. What does that mean?\n"
      ],
      "execution_count": null,
      "outputs": []
    },
    {
      "cell_type": "markdown",
      "metadata": {
        "id": "6xPwEIT6Ahd0"
      },
      "source": [
        "### Display Images\n",
        "\n",
        "Let's now display some of the images and see how they look\n",
        "\n",
        "We will be using `matplotlib` library for displaying the image"
      ]
    },
    {
      "cell_type": "code",
      "metadata": {
        "id": "rxSJdqs_Ahd2"
      },
      "source": [
        "from matplotlib import pyplot\n",
        "import matplotlib as mpl\n",
        "%matplotlib inline"
      ],
      "execution_count": null,
      "outputs": []
    },
    {
      "cell_type": "code",
      "metadata": {
        "id": "Wy4S-r7QAhd5"
      },
      "source": [
        "# Displaying the first training data"
      ],
      "execution_count": null,
      "outputs": []
    },
    {
      "cell_type": "code",
      "metadata": {
        "id": "EsT9EVM6Ahd9",
        "colab": {
          "base_uri": "https://localhost:8080/",
          "height": 269
        },
        "outputId": "ba5ba5c0-568a-4889-f1cc-1030e86eac91"
      },
      "source": [
        "fig = pyplot.figure()\n",
        "ax = fig.add_subplot(1,1,1)\n",
        "imgplot = ax.imshow(X_train[0], cmap=mpl.cm.Greys)\n",
        "imgplot.set_interpolation('nearest')\n",
        "ax.xaxis.set_ticks_position('top')\n",
        "ax.yaxis.set_ticks_position('left')\n",
        "pyplot.show()"
      ],
      "execution_count": null,
      "outputs": [
        {
          "output_type": "display_data",
          "data": {
            "image/png": "[encoded data removed]",
            "text/plain": [
              "<Figure size 432x288 with 1 Axes>"
            ]
          },
          "metadata": {
            "tags": []
          }
        }
      ]
    },
    {
      "cell_type": "code",
      "metadata": {
        "id": "biEUUnfoAheE"
      },
      "source": [
        "# Let's now display the 11th record"
      ],
      "execution_count": null,
      "outputs": []
    },
    {
      "cell_type": "markdown",
      "metadata": {
        "collapsed": true,
        "id": "tVzI6SNmAheL"
      },
      "source": [
        "# Fashion-MNIST"
      ]
    },
    {
      "cell_type": "markdown",
      "metadata": {
        "id": "2_ZYhxpDAheN"
      },
      "source": [
        "Fashion-MNIST is a dataset of Zalando's article images—consisting of a training set of $60,000$ examples and a test set of $10,000$ examples. Each example is a 28x28 grayscale image, associated with a label from 10 classes.\n",
        "\n",
        "**Fashion-MNIST: a Novel Image Dataset for Benchmarking Machine Learning Algorithms. Han Xiao, Kashif Rasul, Roland Vollgraf. [arXiv:1708.07747](http://arxiv.org/abs/1708.07747)**"
      ]
    },
    {
      "cell_type": "markdown",
      "metadata": {
        "id": "OP_wLnQ7AheO"
      },
      "source": [
        "## Problem Definition\n",
        "\n",
        "*Recognize the fashion class*\n",
        "\n",
        "<img src=\"https://miro.medium.com/max/758/1*cd0yDlTocSud8W-nT308PQ.png\" width=\"80%\" />\n",
        "\n",
        "\n",
        "\n",
        "<img src=\"https://hanxiao.github.io/2017/08/26/Fashion-MNIST-a-Drop-In-Replacement-of-MNIST-for-Benchmarking-Machine-Learning-Algorithms/embedding.gif\" width=\"80%\" />\n",
        "\n"
      ]
    },
    {
      "cell_type": "markdown",
      "metadata": {
        "id": "0Rjo98ogAheP"
      },
      "source": [
        "# Too Serious Machine Learning Researchers\n",
        "Seriously, we are talking about replacing MNIST. Here are some good reasons:\n",
        "\n",
        "* **MNIST is too easy**. Convolutional nets can achieve 99.7% on MNIST. Classic machine learning algorithms can also achieve 97% easily. \n",
        "* **MNIST is overused**. In this April 2017 Twitter thread, Google Brain research scientist and deep learning expert Ian Goodfellow calls for people to move away from MNIST.\n",
        "* **MNIST can not represent modern CV tasks**, as noted in this April 2017 Twitter thread, deep learning expert/Keras author François Chollet."
      ]
    },
    {
      "cell_type": "markdown",
      "metadata": {
        "id": "iXJi5y6-AheQ"
      },
      "source": [
        "### Labels\n",
        "\n",
        "Each training and test example is assigned to one of the following labels:\n",
        "\n",
        "| Label | Description |\n",
        "| --- | --- |\n",
        "| 0 | T-shirt/top |\n",
        "| 1 | Trouser |\n",
        "| 2 | Pullover |\n",
        "| 3 | Dress |\n",
        "| 4 | Coat |\n",
        "| 5 | Sandal |\n",
        "| 6 | Shirt |\n",
        "| 7 | Sneaker |\n",
        "| 8 | Bag |\n",
        "| 9 | Ankle boot |"
      ]
    },
    {
      "cell_type": "markdown",
      "metadata": {
        "id": "GEZd3JKgAheS"
      },
      "source": [
        "### t-SNE on Fashion-MNIST and original MNIST \n",
        "<img src=\"https://github.com/zalandoresearch/fashion-mnist/raw/master/doc/img/34d72c08.png\" width=\"80%\"><img src=\"https://github.com/zalandoresearch/fashion-mnist/raw/master/doc/img/01e0c4be.png\" width=\"80%\">\n"
      ]
    },
    {
      "cell_type": "code",
      "metadata": {
        "id": "xm0FTD6mAheT",
        "colab": {
          "base_uri": "https://localhost:8080/",
          "height": 176
        },
        "outputId": "1b019601-8605-465d-cc9e-1570b9354a17"
      },
      "source": [
        "from keras.datasets import fashion_mnist\n",
        "# Load the datasets\n",
        "(X_train, y_train), (X_test, y_test) = fashion_mnist.load_data()"
      ],
      "execution_count": null,
      "outputs": [
        {
          "output_type": "stream",
          "text": [
            "Downloading data from http://fashion-mnist.s3-website.eu-central-1.amazonaws.com/train-labels-idx1-ubyte.gz\n",
            "32768/29515 [=================================] - 0s 3us/step\n",
            "Downloading data from http://fashion-mnist.s3-website.eu-central-1.amazonaws.com/train-images-idx3-ubyte.gz\n",
            "26427392/26421880 [==============================] - 1s 0us/step\n",
            "Downloading data from http://fashion-mnist.s3-website.eu-central-1.amazonaws.com/t10k-labels-idx1-ubyte.gz\n",
            "8192/5148 [===============================================] - 0s 0us/step\n",
            "Downloading data from http://fashion-mnist.s3-website.eu-central-1.amazonaws.com/t10k-images-idx3-ubyte.gz\n",
            "4423680/4422102 [==============================] - 1s 0us/step\n"
          ],
          "name": "stdout"
        }
      ]
    },
    {
      "cell_type": "code",
      "metadata": {
        "id": "RiuyPK2BAheZ"
      },
      "source": [
        "# Display the first training data. What is it?"
      ],
      "execution_count": null,
      "outputs": []
    },
    {
      "cell_type": "code",
      "metadata": {
        "id": "TBA-896YOFd-"
      },
      "source": [
        ""
      ],
      "execution_count": null,
      "outputs": []
    }
  ]
}