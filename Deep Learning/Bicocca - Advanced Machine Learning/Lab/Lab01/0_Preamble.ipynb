{
  "nbformat": 4,
  "nbformat_minor": 0,
  "metadata": {
    "colab": {
      "name": "0. Preamble.ipynb",
      "provenance": [],
      "include_colab_link": true
    },
    "language_info": {
      "codemirror_mode": {
        "name": "ipython",
        "version": 3
      },
      "file_extension": ".py",
      "mimetype": "text/x-python",
      "name": "python",
      "nbconvert_exporter": "python",
      "pygments_lexer": "ipython3",
      "version": "3.6.1"
    },
    "kernelspec": {
      "display_name": "Python 3",
      "language": "python",
      "name": "python3"
    },
    "accelerator": "GPU"
  },
  "cells": [
    {
      "cell_type": "markdown",
      "metadata": {
        "id": "view-in-github",
        "colab_type": "text"
      },
      "source": [
        "<a href=\"https://colab.research.google.com/github/ennioguzman91/DeepLearning/blob/master/Deep%20Learning/Bicocca%20-%20Advanced%20Machine%20Learning/Lab/Lab01/0_Preamble.ipynb\" target=\"_parent\"><img src=\"https://colab.research.google.com/assets/colab-badge.svg\" alt=\"Open In Colab\"/></a>"
      ]
    },
    {
      "cell_type": "markdown",
      "metadata": {
        "id": "nthJT2m1JALU"
      },
      "source": [
        "# Deep Learning Tutorial with Keras"
      ]
    },
    {
      "cell_type": "markdown",
      "metadata": {
        "id": "4lPmA-8UJALX"
      },
      "source": [
        "## Reference"
      ]
    },
    {
      "cell_type": "markdown",
      "metadata": {
        "id": "fFxJJDiOJALZ"
      },
      "source": [
        "The tutorial is adapted from: https://github.com/leriomaggio/deep-learning-keras-tensorflow "
      ]
    },
    {
      "cell_type": "markdown",
      "metadata": {
        "id": "bvHOVQoQJALa"
      },
      "source": [
        "---"
      ]
    },
    {
      "cell_type": "markdown",
      "metadata": {
        "id": "rM29nsmCJALc"
      },
      "source": [
        "# IPython Notebook"
      ]
    },
    {
      "cell_type": "markdown",
      "metadata": {
        "id": "sT3qaj1RJALd"
      },
      "source": [
        "The **IPython Notebook**, or Jupyter Notebook, is an interactive computational environment, in which you can combine code execution, rich text, mathematics, plots and rich media. For more details on the Jupyter Notebook, please see the Jupyter website."
      ]
    },
    {
      "cell_type": "markdown",
      "metadata": {
        "id": "egX9tfRmJP-A"
      },
      "source": [
        "### Install\n",
        "\n",
        "```\n",
        "pip install jupyter\n",
        "```\n",
        "\n",
        "### Running Jupyter\n",
        "\n",
        "You can start the dashboard on any system via the command prompt by entering the command \n",
        "```\n",
        "jupyter notebook\n",
        "```\n",
        "The URL for the dashboard will be something like http://localhost:8888/tree. "
      ]
    },
    {
      "cell_type": "markdown",
      "metadata": {
        "id": "rQSaqwdGJUqM"
      },
      "source": [
        "### Cells\n",
        "\n",
        "Cells form the body of a notebook. There are two main cell types:\n",
        "\n",
        "- A **code cell** contains code to be executed in the kernel and displays its output below.\n",
        "- A **Markdown cell** contains text formatted using Markdown and displays its output in-place when it is run.\n"
      ]
    },
    {
      "cell_type": "markdown",
      "metadata": {
        "id": "7REZjX-4JgIr"
      },
      "source": [
        "### Shortcuts\n",
        "\n",
        "- **Shift + Enter** run the current cell, select below\n",
        "- **Ctrl + Enter** run selected cells\n",
        "- **Alt + Enter** run the current cell, insert below\n",
        "- **Ctrl + S** save and checkpoint"
      ]
    },
    {
      "cell_type": "code",
      "metadata": {
        "id": "Vz-oPS0xJe2t"
      },
      "source": [
        "print('Hello World!')"
      ],
      "execution_count": null,
      "outputs": []
    },
    {
      "cell_type": "markdown",
      "metadata": {
        "id": "5GLZtMgBJALe"
      },
      "source": [
        "# Goal\n",
        "\n",
        "- **Introduce** main features of Keras APIs to build Neural Networks.   \n",
        "- **Learn** how to implement simple and complex Deep Neural Networks Architectures using Keras.   \n",
        "- **Discover** Keras Implementation and Internals.\n",
        "\n",
        "- **Note**: examples and hands-on exercises will be provided along the way."
      ]
    },
    {
      "cell_type": "markdown",
      "metadata": {
        "id": "gEGSUMEqJ8eQ"
      },
      "source": [
        "# Google Colab\n",
        "\n",
        "<img src=\"https://process.filestackapi.com/cache=expiry:max/resize=width:700/compress/FMOwcdXpR3uFF1rge8ns\" width=\"20%\" />\n",
        "\n",
        "\n",
        "Google has provided a **free cloud** service based on Jupyter Notebooks that supports free GPU. Not only is this a great tool for improving your coding skills, but it also allows absolutely anyone to develop deep learning applications using popular libraries,  like PyTorch, Keras, TensorFlow, and OpenCV.\n",
        "\n",
        "Limits:\n",
        " - It supports Python 2.7 and 3.6, but not R or Scala yet. \n",
        " - It provides a limit to your sessions and size"
      ]
    },
    {
      "cell_type": "markdown",
      "metadata": {
        "id": "yq_MKcYnJALg"
      },
      "source": [
        "---"
      ]
    },
    {
      "cell_type": "markdown",
      "metadata": {
        "id": "PFqWkAhdJALh"
      },
      "source": [
        "# Requirements"
      ]
    },
    {
      "cell_type": "markdown",
      "metadata": {
        "id": "f0bG1IcVJALj"
      },
      "source": [
        "This tutorial requires the following packages:\n",
        "\n",
        "- Python version 3.5\n",
        "    - Python 3.4 should be fine as well\n",
        "    - likely Python 2.7 would be also fine, but *who knows*? :P\n",
        "    \n",
        "- `numpy` version 1.10 or later: http://www.numpy.org/\n",
        "- `scipy` version 0.16 or later: http://www.scipy.org/\n",
        "- `matplotlib` version 1.4 or later: http://matplotlib.org/\n",
        "- `pandas` version 0.16 or later: http://pandas.pydata.org\n",
        "- `scikit-learn` version 0.15 or later: http://scikit-learn.org\n",
        "- `keras` version 2.0 or later: http://keras.io\n",
        "- `theano` version 0.9 or later: http://www.theano.org/\n",
        "- `tensorflow` version 1.0 or later: https://www.tensorflow.org\n",
        "- `ipython`/`jupyter` version 4.0 or later, with notebook support\n",
        "\n",
        "(Optional but recommended):\n",
        "\n",
        "- `pyyaml`\n",
        "- `hdf5` and `h5py` (required if you use model saving/loading functions in keras)\n",
        "- **NVIDIA cuDNN** if you have NVIDIA GPUs on your machines.\n",
        "    [https://developer.nvidia.com/rdp/cudnn-download]()\n",
        "\n",
        "The easiest way to get (most) these is to use an all-in-one installer such as [Anaconda](http://www.continuum.io/downloads) from Continuum. These are available for multiple architectures."
      ]
    },
    {
      "cell_type": "markdown",
      "metadata": {
        "id": "AOnIY5hRJALm"
      },
      "source": [
        "---"
      ]
    },
    {
      "cell_type": "markdown",
      "metadata": {
        "id": "Tr2Va5P3JALo"
      },
      "source": [
        "### Python Version"
      ]
    },
    {
      "cell_type": "code",
      "metadata": {
        "id": "LgUTtHxVJALq",
        "colab": {
          "base_uri": "https://localhost:8080/",
          "height": 35
        },
        "outputId": "94270f78-cda4-4b5a-e04d-c354e734ce8d"
      },
      "source": [
        "!python --version"
      ],
      "execution_count": null,
      "outputs": [
        {
          "output_type": "stream",
          "text": [
            "Python 3.6.8\n"
          ],
          "name": "stdout"
        }
      ]
    },
    {
      "cell_type": "markdown",
      "metadata": {
        "id": "9YtlqwUkJAL0"
      },
      "source": [
        "# Test if everything is up&running"
      ]
    },
    {
      "cell_type": "markdown",
      "metadata": {
        "id": "x0sH8dYqJAL1"
      },
      "source": [
        "## 1. Check import"
      ]
    },
    {
      "cell_type": "code",
      "metadata": {
        "id": "VTH972ssJAL2"
      },
      "source": [
        "import numpy as np\n",
        "import scipy as sp\n",
        "import pandas as pd\n",
        "import matplotlib.pyplot as plt\n",
        "import sklearn"
      ],
      "execution_count": null,
      "outputs": []
    },
    {
      "cell_type": "code",
      "metadata": {
        "id": "sgey2RzsJAL7",
        "colab": {
          "base_uri": "https://localhost:8080/",
          "height": 35
        },
        "outputId": "2e75928f-d38e-48c5-bb92-89b4af7d214a"
      },
      "source": [
        "import keras"
      ],
      "execution_count": null,
      "outputs": [
        {
          "output_type": "stream",
          "text": [
            "Using TensorFlow backend.\n"
          ],
          "name": "stderr"
        }
      ]
    },
    {
      "cell_type": "markdown",
      "metadata": {
        "id": "msspDRFeJAMA"
      },
      "source": [
        "## 2. Check installed Versions"
      ]
    },
    {
      "cell_type": "code",
      "metadata": {
        "id": "cUz3z4oeJAMC",
        "colab": {
          "base_uri": "https://localhost:8080/"
        },
        "outputId": "a76184ad-9e5e-426b-a6a6-f5f277823015"
      },
      "source": [
        "import numpy\n",
        "print('numpy:', numpy.__version__)\n",
        "\n",
        "import scipy\n",
        "print('scipy:', scipy.__version__)\n",
        "\n",
        "import matplotlib\n",
        "print('matplotlib:', matplotlib.__version__)\n",
        "\n",
        "import IPython\n",
        "print('iPython:', IPython.__version__)\n",
        "\n",
        "import sklearn\n",
        "print('scikit-learn:', sklearn.__version__)"
      ],
      "execution_count": null,
      "outputs": [
        {
          "output_type": "stream",
          "name": "stdout",
          "text": [
            "numpy: 1.19.5\n",
            "scipy: 1.4.1\n",
            "matplotlib: 3.2.2\n",
            "iPython: 5.5.0\n",
            "scikit-learn: 0.22.2.post1\n"
          ]
        }
      ]
    },
    {
      "cell_type": "code",
      "metadata": {
        "id": "t6HaOW_PJAMH",
        "colab": {
          "base_uri": "https://localhost:8080/"
        },
        "outputId": "7f470aa0-6d26-47b8-c03e-21933de5a000"
      },
      "source": [
        "import keras\n",
        "print('keras: ', keras.__version__)\n",
        "\n",
        "# optional\n",
        "import theano\n",
        "print('Theano: ', theano.__version__)\n",
        "\n",
        "import tensorflow as tf\n",
        "print('Tensorflow: ', tf.__version__)"
      ],
      "execution_count": null,
      "outputs": [
        {
          "output_type": "stream",
          "name": "stdout",
          "text": [
            "keras:  2.6.0\n",
            "Theano:  1.1.2\n",
            "Tensorflow:  2.6.0\n"
          ]
        }
      ]
    },
    {
      "cell_type": "markdown",
      "metadata": {
        "id": "KZXtZeQSJAMc"
      },
      "source": [
        "---\n"
      ]
    }
  ]
}