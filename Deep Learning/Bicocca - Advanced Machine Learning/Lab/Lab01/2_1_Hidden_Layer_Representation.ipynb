{
  "nbformat": 4,
  "nbformat_minor": 0,
  "metadata": {
    "colab": {
      "name": "2.1 Hidden Layer Representation.ipynb",
      "provenance": [],
      "collapsed_sections": [],
      "include_colab_link": true
    },
    "language_info": {
      "codemirror_mode": {
        "name": "ipython",
        "version": 3
      },
      "file_extension": ".py",
      "mimetype": "text/x-python",
      "name": "python",
      "nbconvert_exporter": "python",
      "pygments_lexer": "ipython3",
      "version": "3.6.1"
    },
    "kernelspec": {
      "display_name": "Python 3",
      "language": "python",
      "name": "python3"
    }
  },
  "cells": [
    {
      "cell_type": "markdown",
      "metadata": {
        "id": "view-in-github",
        "colab_type": "text"
      },
      "source": [
        "<a href=\"https://colab.research.google.com/github/ennioguzman91/DeepLearning/blob/master/Deep%20Learning/Bicocca%20-%20Advanced%20Machine%20Learning/Lab/Lab01/2_1_Hidden_Layer_Representation.ipynb\" target=\"_parent\"><img src=\"https://colab.research.google.com/assets/colab-badge.svg\" alt=\"Open In Colab\"/></a>"
      ]
    },
    {
      "cell_type": "markdown",
      "metadata": {
        "id": "jG16KcmYALhG"
      },
      "source": [
        "# Fully Connected Feed-Forward Network\n",
        "\n",
        "In this notebook we will play with Feed-Forward FC-NN (Fully Connected Neural Network) for a *classification task*: \n",
        "\n",
        "Image Classification on MNIST Dataset\n",
        "\n",
        "**RECALL**\n",
        "\n",
        "In the FC-NN, the output of each layer is computed using the activations from the previous one, as follows:\n",
        "\n",
        "$$h_{i} = \\sigma(W_i h_{i-1} + b_i)$$\n",
        "\n",
        "where ${h}_i$ is the activation vector from the $i$-th layer (or the input data for $i=0$), ${W}_i$ and ${b}_i$ are  the weight matrix and the bias vector for the $i$-th layer, respectively. \n",
        "<br><rb>\n",
        "$\\sigma(\\cdot)$ is the activation function. In our example, we will use the *ReLU* activation function for the hidden layers and *softmax* for the last layer.\n",
        "\n",
        "Our loss function will be the **categorical crossentropy**."
      ]
    },
    {
      "cell_type": "markdown",
      "metadata": {
        "id": "Gjw-jEmFALhI"
      },
      "source": [
        "## Model definition\n",
        "Keras supports two different kind of models: the [Sequential](http://keras.io/models/#sequential) model and the [Graph](http://keras.io/models/#graph) model. The former is used to build linear stacks of layer (so each layer has one input and one output), and the latter supports any kind of connection graph.\n",
        "\n",
        "In our case we build a Sequential model with three [Dense](http://keras.io/layers/core/#dense) (aka fully connected) layers. Notice that the output layer has the softmax activation function. \n",
        "\n",
        "The resulting model is actually a `function` of its own inputs implemented using the Keras backend. \n",
        "\n",
        "We apply the binary crossentropy loss and choose SGD as the optimizer. \n",
        "\n",
        "Please remind that Keras supports a variety of different [optimizers](http://keras.io/optimizers/) and [loss functions](http://keras.io/objectives/), which you may want to check out. "
      ]
    },
    {
      "cell_type": "code",
      "metadata": {
        "id": "6cpVZVFIALhK"
      },
      "source": [
        "import numpy as np\n",
        "import matplotlib.pyplot as plt\n",
        "\n",
        "%matplotlib inline"
      ],
      "execution_count": null,
      "outputs": []
    },
    {
      "cell_type": "markdown",
      "metadata": {
        "id": "TMbPLH7EALhR"
      },
      "source": [
        "## Introducing ReLU"
      ]
    },
    {
      "cell_type": "markdown",
      "metadata": {
        "id": "TNb8r2BkALhT"
      },
      "source": [
        "The **ReLu** function is defined as $f(x) = \\max(0, x),$ [1]\n",
        "\n",
        "A smooth approximation to the rectifier is the *analytic function*: $f(x) = \\ln(1 + e^x)$\n",
        "\n",
        "which is called the **softplus** function.\n",
        "\n",
        "The derivative of softplus is $f'(x) = e^x / (e^x + 1) = 1 / (1 + e^{-x})$, i.e. the **logistic function**.\n",
        "\n",
        "[1] [http://www.cs.toronto.edu/~fritz/absps/reluICML.pdf]() by G. E. Hinton "
      ]
    },
    {
      "cell_type": "markdown",
      "metadata": {
        "id": "_aY27siWALhk"
      },
      "source": [
        "## Data preparation (`keras.dataset`)\n",
        "\n",
        "We will train our model on the fashion MNIST dataset, which consists of 60,000 28x28 grayscale images of the 10 fashion classes, along with a test set of 10,000 images. \n",
        "\n",
        "![](imgs/fashion-mnist-sprite.png)\n",
        "\n",
        "Since this dataset is **provided** with Keras, we just ask the `keras.dataset` model for training and test data.\n",
        "\n",
        "We will:\n",
        "\n",
        "* download the data\n",
        "* reshape data to be in vectorial form (original data are images)\n",
        "* normalize between 0 and 1.\n",
        "\n",
        "The `binary_crossentropy` loss expects a **one-hot-vector** as input, therefore we apply the `to_categorical` function from `keras.utilis` to convert integer labels to **one-hot-vectors**."
      ]
    },
    {
      "cell_type": "code",
      "metadata": {
        "id": "L3reWqLtALhl"
      },
      "source": [
        "from keras.datasets import fashion_mnist\n",
        "from keras.utils import np_utils\n",
        "\n",
        "(X_train, y_train), (X_test, y_test) = fashion_mnist.load_data()"
      ],
      "execution_count": null,
      "outputs": []
    },
    {
      "cell_type": "code",
      "metadata": {
        "id": "95KM6c43ALhp",
        "colab": {
          "base_uri": "https://localhost:8080/",
          "height": 35
        },
        "outputId": "73a1b7da-66aa-4991-b686-d3f377715ad4"
      },
      "source": [
        "X_train.shape"
      ],
      "execution_count": null,
      "outputs": [
        {
          "output_type": "execute_result",
          "data": {
            "text/plain": [
              "(60000, 28, 28)"
            ]
          },
          "metadata": {
            "tags": []
          },
          "execution_count": 18
        }
      ]
    },
    {
      "cell_type": "code",
      "metadata": {
        "id": "GrHXczGHlmDX",
        "colab": {
          "base_uri": "https://localhost:8080/",
          "height": 867
        },
        "outputId": "4899fd98-6924-4f00-da96-a55c7ebd3ecb"
      },
      "source": [
        "print(X_train)"
      ],
      "execution_count": null,
      "outputs": [
        {
          "output_type": "stream",
          "text": [
            "[[[0 0 0 ... 0 0 0]\n",
            "  [0 0 0 ... 0 0 0]\n",
            "  [0 0 0 ... 0 0 0]\n",
            "  ...\n",
            "  [0 0 0 ... 0 0 0]\n",
            "  [0 0 0 ... 0 0 0]\n",
            "  [0 0 0 ... 0 0 0]]\n",
            "\n",
            " [[0 0 0 ... 0 0 0]\n",
            "  [0 0 0 ... 0 0 0]\n",
            "  [0 0 0 ... 0 0 0]\n",
            "  ...\n",
            "  [0 0 0 ... 0 0 0]\n",
            "  [0 0 0 ... 0 0 0]\n",
            "  [0 0 0 ... 0 0 0]]\n",
            "\n",
            " [[0 0 0 ... 0 0 0]\n",
            "  [0 0 0 ... 0 0 0]\n",
            "  [0 0 0 ... 0 0 0]\n",
            "  ...\n",
            "  [0 0 0 ... 0 0 0]\n",
            "  [0 0 0 ... 0 0 0]\n",
            "  [0 0 0 ... 0 0 0]]\n",
            "\n",
            " ...\n",
            "\n",
            " [[0 0 0 ... 0 0 0]\n",
            "  [0 0 0 ... 0 0 0]\n",
            "  [0 0 0 ... 0 0 0]\n",
            "  ...\n",
            "  [0 0 0 ... 0 0 0]\n",
            "  [0 0 0 ... 0 0 0]\n",
            "  [0 0 0 ... 0 0 0]]\n",
            "\n",
            " [[0 0 0 ... 0 0 0]\n",
            "  [0 0 0 ... 0 0 0]\n",
            "  [0 0 0 ... 0 0 0]\n",
            "  ...\n",
            "  [0 0 0 ... 0 0 0]\n",
            "  [0 0 0 ... 0 0 0]\n",
            "  [0 0 0 ... 0 0 0]]\n",
            "\n",
            " [[0 0 0 ... 0 0 0]\n",
            "  [0 0 0 ... 0 0 0]\n",
            "  [0 0 0 ... 0 0 0]\n",
            "  ...\n",
            "  [0 0 0 ... 0 0 0]\n",
            "  [0 0 0 ... 0 0 0]\n",
            "  [0 0 0 ... 0 0 0]]]\n"
          ],
          "name": "stdout"
        }
      ]
    },
    {
      "cell_type": "code",
      "metadata": {
        "id": "5GeCi5_9ALhv"
      },
      "source": [
        "X_train = X_train.reshape(60000, 784)\n",
        "X_test = X_test.reshape(10000, 784)\n",
        "X_train = X_train.astype(\"float32\")\n",
        "X_test = X_test.astype(\"float32\")\n",
        "\n",
        "# Put everything on grayscale\n",
        "X_train /= 255\n",
        "X_test /= 255\n",
        "\n",
        "# convert class vectors to binary class matrices\n",
        "Y_train = np_utils.to_categorical(y_train, 10)\n",
        "Y_test = np_utils.to_categorical(y_test, 10)"
      ],
      "execution_count": null,
      "outputs": []
    },
    {
      "cell_type": "markdown",
      "metadata": {
        "id": "1_fCwONCALhz"
      },
      "source": [
        "#### Split Training and Validation Data"
      ]
    },
    {
      "cell_type": "code",
      "metadata": {
        "id": "lxe5WJdoALh1"
      },
      "source": [
        "from sklearn.model_selection import train_test_split\n",
        "\n",
        "X_train, X_val, Y_train, Y_val = train_test_split(X_train, Y_train)"
      ],
      "execution_count": null,
      "outputs": []
    },
    {
      "cell_type": "code",
      "metadata": {
        "id": "rY3uKLjmALh7"
      },
      "source": [
        "train_test_split??"
      ],
      "execution_count": null,
      "outputs": []
    },
    {
      "cell_type": "code",
      "metadata": {
        "id": "sz3Jct-SALiA",
        "colab": {
          "base_uri": "https://localhost:8080/",
          "height": 35
        },
        "outputId": "c94799da-4649-4c0c-d641-4e90201b680f"
      },
      "source": [
        "X_train[0].shape"
      ],
      "execution_count": null,
      "outputs": [
        {
          "output_type": "execute_result",
          "data": {
            "text/plain": [
              "(784,)"
            ]
          },
          "metadata": {
            "tags": []
          },
          "execution_count": 23
        }
      ]
    },
    {
      "cell_type": "code",
      "metadata": {
        "id": "B8sPlMAoALiF",
        "colab": {
          "base_uri": "https://localhost:8080/",
          "height": 287
        },
        "outputId": "3126eec2-6543-4282-88db-eb9be7820fc2"
      },
      "source": [
        "plt.imshow(X_train[0].reshape(28, 28))"
      ],
      "execution_count": null,
      "outputs": [
        {
          "output_type": "execute_result",
          "data": {
            "text/plain": [
              "<matplotlib.image.AxesImage at 0x7f954cc9a7f0>"
            ]
          },
          "metadata": {
            "tags": []
          },
          "execution_count": 24
        },
        {
          "output_type": "display_data",
          "data": {
            "image/png": "[encoded data removed]",
            "text/plain": [
              "<Figure size 432x288 with 1 Axes>"
            ]
          },
          "metadata": {
            "tags": []
          }
        }
      ]
    },
    {
      "cell_type": "code",
      "metadata": {
        "id": "_etarmsaALiJ",
        "colab": {
          "base_uri": "https://localhost:8080/",
          "height": 52
        },
        "outputId": "7aab1bd6-9230-4ef2-b93c-efbcf514603d"
      },
      "source": [
        "print(np.asarray(range(10)))\n",
        "print(Y_train[0].astype('int'))"
      ],
      "execution_count": null,
      "outputs": [
        {
          "output_type": "stream",
          "text": [
            "[0 1 2 3 4 5 6 7 8 9]\n",
            "[0 0 0 0 0 0 0 0 1 0]\n"
          ],
          "name": "stdout"
        }
      ]
    },
    {
      "cell_type": "code",
      "metadata": {
        "id": "QUa0gVqTALiO",
        "colab": {
          "base_uri": "https://localhost:8080/",
          "height": 287
        },
        "outputId": "67e1f1cc-99fd-4652-f9e4-7bdb964633cd"
      },
      "source": [
        "plt.imshow(X_val[0].reshape(28, 28))"
      ],
      "execution_count": null,
      "outputs": [
        {
          "output_type": "execute_result",
          "data": {
            "text/plain": [
              "<matplotlib.image.AxesImage at 0x7f954cc74518>"
            ]
          },
          "metadata": {
            "tags": []
          },
          "execution_count": 26
        },
        {
          "output_type": "display_data",
          "data": {
            "image/png": "[encoded data removed]",
            "text/plain": [
              "<Figure size 432x288 with 1 Axes>"
            ]
          },
          "metadata": {
            "tags": []
          }
        }
      ]
    },
    {
      "cell_type": "code",
      "metadata": {
        "id": "Z6s_OQPeALiT",
        "colab": {
          "base_uri": "https://localhost:8080/",
          "height": 52
        },
        "outputId": "93344616-9a0d-4586-b465-f3c1a4e7ea89"
      },
      "source": [
        "print(np.asarray(range(10)))\n",
        "print(Y_val[0].astype('int'))"
      ],
      "execution_count": null,
      "outputs": [
        {
          "output_type": "stream",
          "text": [
            "[0 1 2 3 4 5 6 7 8 9]\n",
            "[0 0 1 0 0 0 0 0 0 0]\n"
          ],
          "name": "stdout"
        }
      ]
    },
    {
      "cell_type": "markdown",
      "metadata": {
        "id": "2hyVyDDAALiY"
      },
      "source": [
        "## Training\n",
        "Having defined and compiled the model, it can be trained using the `fit` function. We also specify a validation dataset to monitor validation loss and accuracy."
      ]
    },
    {
      "cell_type": "code",
      "metadata": {
        "id": "9jOa9rMbALhV"
      },
      "source": [
        "from keras.models import Sequential\n",
        "from keras.layers.core import Dense\n",
        "\n",
        "dims = X_train.shape[1]\n",
        "\n",
        "nb_classes = 10\n",
        "\n",
        "# FC@512+relu -> FC@512+relu -> FC@nb_classes+softmax\n",
        "# ... your Code Here\n",
        "\n",
        "model.compile(optimizer='sgd', loss='categorical_crossentropy',metrics=['accuracy'])"
      ],
      "execution_count": null,
      "outputs": []
    },
    {
      "cell_type": "code",
      "metadata": {
        "scrolled": false,
        "id": "qJUqfP1EALib",
        "colab": {
          "base_uri": "https://localhost:8080/",
          "height": 124
        },
        "outputId": "318311d4-a581-4941-ba59-d4f2979f1719"
      },
      "source": [
        "n_epochs = 2\n",
        "network_history = model.fit(X_train, Y_train, batch_size=128, \n",
        "                            epochs=2, verbose=1, validation_data=(X_val, Y_val))"
      ],
      "execution_count": null,
      "outputs": [
        {
          "output_type": "stream",
          "text": [
            "Train on 45000 samples, validate on 15000 samples\n",
            "Epoch 1/2\n",
            "45000/45000 [==============================] - 8s 173us/step - loss: 0.9777 - acc: 0.6900 - val_loss: 0.6718 - val_acc: 0.7771\n",
            "Epoch 2/2\n",
            "45000/45000 [==============================] - 7s 165us/step - loss: 0.6075 - acc: 0.7974 - val_loss: 0.5611 - val_acc: 0.8099\n"
          ],
          "name": "stdout"
        }
      ]
    },
    {
      "cell_type": "markdown",
      "metadata": {
        "id": "qw7hl-VJALig"
      },
      "source": [
        "### Plotting Network Performance Trend\n",
        "The return value of the `fit` function is a `keras.callbacks.History` object which contains the entire history of training/validation loss and accuracy, for each epoch. We can therefore plot the behaviour of loss and accuracy during the training phase."
      ]
    },
    {
      "cell_type": "code",
      "metadata": {
        "id": "fMnowu6DALih",
        "colab": {
          "base_uri": "https://localhost:8080/",
          "height": 549
        },
        "outputId": "e3c37617-fec3-4d30-b5fe-b95fb094d54e"
      },
      "source": [
        "import matplotlib.pyplot as plt\n",
        "%matplotlib inline\n",
        "\n",
        "x_plot = list(range(1,n_epochs+1))\n",
        "\n",
        "def plot_history(network_history):\n",
        "    plt.figure()\n",
        "    plt.xlabel('Epochs')\n",
        "    plt.ylabel('Loss')\n",
        "    plt.plot(x_plot, network_history.history['loss'])\n",
        "    plt.plot(x_plot, network_history.history['val_loss'])\n",
        "    plt.legend(['Training', 'Validation'])\n",
        "\n",
        "    plt.figure()\n",
        "    plt.xlabel('Epochs')\n",
        "    plt.ylabel('Accuracy')\n",
        "    plt.plot(x_plot, network_history.history['accuracy'])\n",
        "    plt.plot(x_plot, network_history.history['val_accuracy'])\n",
        "    plt.legend(['Training', 'Validation'], loc='lower right')\n",
        "    plt.show()\n",
        "\n",
        "plot_history(network_history)"
      ],
      "execution_count": null,
      "outputs": [
        {
          "output_type": "display_data",
          "data": {
            "image/png": "[encoded data removed]",
            "text/plain": [
              "<Figure size 432x288 with 1 Axes>"
            ]
          },
          "metadata": {
            "tags": []
          }
        },
        {
          "output_type": "display_data",
          "data": {
            "image/png": "[encoded data removed]",
            "text/plain": [
              "<Figure size 432x288 with 1 Axes>"
            ]
          },
          "metadata": {
            "tags": []
          }
        }
      ]
    },
    {
      "cell_type": "markdown",
      "metadata": {
        "id": "QV6yD1wJALir"
      },
      "source": [
        "After `2` epochs, we get a `~80%` validation accuracy. \n",
        "\n",
        "* If you increase the number of epochs, you will get definitely better results."
      ]
    },
    {
      "cell_type": "markdown",
      "metadata": {
        "id": "_xWDrpW4ALit"
      },
      "source": [
        "### Quick Exercise: \n",
        "\n",
        "Try increasing the number of epochs (if you're hardware allows to)\n"
      ]
    },
    {
      "cell_type": "code",
      "metadata": {
        "id": "nT0eBpl5ALiw"
      },
      "source": [
        "from tensorflow.keras.optimizers import SGD\n",
        "\n",
        "# Your code here\n",
        "model.compile(loss='categorical_crossentropy', optimizer=SGD(lr=0.001), \n",
        "              metrics=['accuracy'])\n",
        "network_history = model.fit(X_train, Y_train, batch_size=128, \n",
        "                            epochs=2, verbose=1, validation_data=(X_val, Y_val))"
      ],
      "execution_count": null,
      "outputs": []
    },
    {
      "cell_type": "markdown",
      "metadata": {
        "id": "cJ_R00XXALja"
      },
      "source": [
        "---"
      ]
    },
    {
      "cell_type": "markdown",
      "metadata": {
        "id": "Jf65svAHALjb"
      },
      "source": [
        "# Inspecting Layers"
      ]
    },
    {
      "cell_type": "code",
      "metadata": {
        "id": "G2Rv7wSfALjc"
      },
      "source": [
        "# We already used `summary`\n",
        "model.summary()"
      ],
      "execution_count": null,
      "outputs": []
    },
    {
      "cell_type": "markdown",
      "metadata": {
        "id": "D5tsiPwtALjg"
      },
      "source": [
        "### `model.layers` is iterable"
      ]
    },
    {
      "cell_type": "code",
      "metadata": {
        "id": "XO_NO8BcALjh",
        "colab": {
          "base_uri": "https://localhost:8080/",
          "height": 401
        },
        "outputId": "64c310d5-e2b3-4e31-92ab-fe12e4a84b47"
      },
      "source": [
        "print('Model Input Tensors: ', model.input, end='\\n\\n')\n",
        "print('Layers - Network Configuration:', end='\\n\\n')\n",
        "for layer in model.layers:\n",
        "    print(layer.name, layer.trainable)\n",
        "    print('Layer Configuration:')\n",
        "    print(layer.get_config(), end='\\n{}\\n'.format('----'*10))\n",
        "print('Model Output Tensors: ', model.output)"
      ],
      "execution_count": null,
      "outputs": [
        {
          "output_type": "stream",
          "text": [
            "Model Input Tensors:  Tensor(\"dense_13_input:0\", shape=(?, 784), dtype=float32)\n",
            "\n",
            "Layers - Network Configuration:\n",
            "\n",
            "dense_13 True\n",
            "Layer Configuration:\n",
            "{'name': 'dense_13', 'trainable': True, 'batch_input_shape': (None, 784), 'dtype': 'float32', 'units': 512, 'activation': 'linear', 'use_bias': True, 'kernel_initializer': {'class_name': 'VarianceScaling', 'config': {'scale': 1.0, 'mode': 'fan_avg', 'distribution': 'uniform', 'seed': None}}, 'bias_initializer': {'class_name': 'Zeros', 'config': {}}, 'kernel_regularizer': None, 'bias_regularizer': None, 'activity_regularizer': None, 'kernel_constraint': None, 'bias_constraint': None}\n",
            "----------------------------------------\n",
            "dense_14 True\n",
            "Layer Configuration:\n",
            "{'name': 'dense_14', 'trainable': True, 'dtype': 'float32', 'units': 512, 'activation': 'relu', 'use_bias': True, 'kernel_initializer': {'class_name': 'VarianceScaling', 'config': {'scale': 1.0, 'mode': 'fan_avg', 'distribution': 'uniform', 'seed': None}}, 'bias_initializer': {'class_name': 'Zeros', 'config': {}}, 'kernel_regularizer': None, 'bias_regularizer': None, 'activity_regularizer': None, 'kernel_constraint': None, 'bias_constraint': None}\n",
            "----------------------------------------\n",
            "dense_15 True\n",
            "Layer Configuration:\n",
            "{'name': 'dense_15', 'trainable': True, 'dtype': 'float32', 'units': 10, 'activation': 'linear', 'use_bias': True, 'kernel_initializer': {'class_name': 'VarianceScaling', 'config': {'scale': 1.0, 'mode': 'fan_avg', 'distribution': 'uniform', 'seed': None}}, 'bias_initializer': {'class_name': 'Zeros', 'config': {}}, 'kernel_regularizer': None, 'bias_regularizer': None, 'activity_regularizer': None, 'kernel_constraint': None, 'bias_constraint': None}\n",
            "----------------------------------------\n",
            "dense_16 True\n",
            "Layer Configuration:\n",
            "{'name': 'dense_16', 'trainable': True, 'dtype': 'float32', 'units': 10, 'activation': 'softmax', 'use_bias': True, 'kernel_initializer': {'class_name': 'VarianceScaling', 'config': {'scale': 1.0, 'mode': 'fan_avg', 'distribution': 'uniform', 'seed': None}}, 'bias_initializer': {'class_name': 'Zeros', 'config': {}}, 'kernel_regularizer': None, 'bias_regularizer': None, 'activity_regularizer': None, 'kernel_constraint': None, 'bias_constraint': None}\n",
            "----------------------------------------\n",
            "Model Output Tensors:  Tensor(\"dense_16/Softmax:0\", shape=(?, 10), dtype=float32)\n"
          ],
          "name": "stdout"
        }
      ]
    },
    {
      "cell_type": "markdown",
      "metadata": {
        "id": "m7Ks46j4ALjl"
      },
      "source": [
        "## Extract hidden layer representation of the given data"
      ]
    },
    {
      "cell_type": "markdown",
      "metadata": {
        "id": "UFok7jciALjm"
      },
      "source": [
        "One **simple** way to do it is to use the weights of your model to build a new model that's truncated at the layer you want to read. \n",
        "\n",
        "Then you can run the `._predict(X_batch)` method to get the activations for a batch of inputs."
      ]
    },
    {
      "cell_type": "code",
      "metadata": {
        "id": "IxfrHtx6ALjn"
      },
      "source": [
        "model_truncated = Sequential()\n",
        "model_truncated.add(Dense(512, activation='relu', input_shape=(784,)))\n",
        "model_truncated.add(Dense(512, activation='relu'))\n",
        "\n",
        "for i, layer in enumerate(model_truncated.layers):\n",
        "    layer.set_weights(model.layers[i].get_weights())\n",
        "\n",
        "model_truncated.compile(loss='categorical_crossentropy', optimizer=SGD(), \n",
        "              metrics=['accuracy'])"
      ],
      "execution_count": null,
      "outputs": []
    },
    {
      "cell_type": "code",
      "metadata": {
        "id": "ICjtHNzgALjs",
        "colab": {
          "base_uri": "https://localhost:8080/",
          "height": 35
        },
        "outputId": "05e1289d-eb55-47bb-a795-f8e65587c929"
      },
      "source": [
        "import numpy as np\n",
        "# Check\n",
        "np.all(model_truncated.layers[0].get_weights()[0] == model.layers[0].get_weights()[0])"
      ],
      "execution_count": null,
      "outputs": [
        {
          "output_type": "execute_result",
          "data": {
            "text/plain": [
              "True"
            ]
          },
          "metadata": {
            "tags": []
          },
          "execution_count": 41
        }
      ]
    },
    {
      "cell_type": "code",
      "metadata": {
        "id": "NqJo5eT8ALjy"
      },
      "source": [
        "hidden_features = model_truncated.predict(X_train)"
      ],
      "execution_count": null,
      "outputs": []
    },
    {
      "cell_type": "code",
      "metadata": {
        "id": "IvxEUEeNALj6",
        "colab": {
          "base_uri": "https://localhost:8080/",
          "height": 35
        },
        "outputId": "db37b694-bd4a-441c-b5d4-3e8089e53de7"
      },
      "source": [
        "hidden_features.shape"
      ],
      "execution_count": null,
      "outputs": [
        {
          "output_type": "execute_result",
          "data": {
            "text/plain": [
              "(45000, 512)"
            ]
          },
          "metadata": {
            "tags": []
          },
          "execution_count": 43
        }
      ]
    },
    {
      "cell_type": "code",
      "metadata": {
        "id": "dUv8khynALj9",
        "colab": {
          "base_uri": "https://localhost:8080/",
          "height": 35
        },
        "outputId": "e746d677-4188-4f55-e0c1-d7440fe2df52"
      },
      "source": [
        "X_train.shape"
      ],
      "execution_count": null,
      "outputs": [
        {
          "output_type": "execute_result",
          "data": {
            "text/plain": [
              "(45000, 784)"
            ]
          },
          "metadata": {
            "tags": []
          },
          "execution_count": 44
        }
      ]
    },
    {
      "cell_type": "markdown",
      "metadata": {
        "id": "TThRWzsaALkC"
      },
      "source": [
        "#### Hint: Alternative Method to get activations \n",
        "\n",
        "(Using `keras.backend` `function` on Tensors)"
      ]
    },
    {
      "cell_type": "markdown",
      "metadata": {
        "collapsed": true,
        "id": "qC2jOAKdALkD"
      },
      "source": [
        "```python\n",
        "def get_activations(model, layer, X_batch):\n",
        "    activations_f = K.function([model.layers[0].input, K.learning_phase()], [layer.output,])\n",
        "    activations = activations_f((X_batch, False))\n",
        "    return activations\n",
        "```"
      ]
    },
    {
      "cell_type": "markdown",
      "metadata": {
        "id": "wydCNx3tALkE"
      },
      "source": [
        "---"
      ]
    },
    {
      "cell_type": "markdown",
      "metadata": {
        "id": "NrrYtqxWALkF"
      },
      "source": [
        "### Generate the Embedding of Hidden Features"
      ]
    },
    {
      "cell_type": "code",
      "metadata": {
        "id": "dCA_xx6UALkI"
      },
      "source": [
        "from sklearn.manifold import TSNE\n",
        "\n",
        "tsne = TSNE(n_components=2)\n",
        "X_tsne = tsne.fit_transform(hidden_features[:1000]) ## Reduced for computational issues"
      ],
      "execution_count": null,
      "outputs": []
    },
    {
      "cell_type": "code",
      "metadata": {
        "id": "M-CinwuMALkR"
      },
      "source": [
        "colors_map = np.argmax(Y_train, axis=1)"
      ],
      "execution_count": null,
      "outputs": []
    },
    {
      "cell_type": "code",
      "metadata": {
        "id": "0WYPmlyBALkc",
        "colab": {
          "base_uri": "https://localhost:8080/",
          "height": 35
        },
        "outputId": "034fdc80-fee6-420f-ec46-605c168786d6"
      },
      "source": [
        "X_tsne.shape"
      ],
      "execution_count": null,
      "outputs": [
        {
          "output_type": "execute_result",
          "data": {
            "text/plain": [
              "(1000, 2)"
            ]
          },
          "metadata": {
            "tags": []
          },
          "execution_count": 47
        }
      ]
    },
    {
      "cell_type": "code",
      "metadata": {
        "id": "mDjOfzOjALko",
        "colab": {
          "base_uri": "https://localhost:8080/",
          "height": 35
        },
        "outputId": "1931f79e-d367-4957-d706-9fecc2ccb251"
      },
      "source": [
        "nb_classes"
      ],
      "execution_count": null,
      "outputs": [
        {
          "output_type": "execute_result",
          "data": {
            "text/plain": [
              "10"
            ]
          },
          "metadata": {
            "tags": []
          },
          "execution_count": 48
        }
      ]
    },
    {
      "cell_type": "code",
      "metadata": {
        "id": "JfpIA-xIALk2",
        "colab": {
          "base_uri": "https://localhost:8080/",
          "height": 35
        },
        "outputId": "d02ee7d5-7b7a-4476-bfb7-f623d3d53af7"
      },
      "source": [
        "np.where(colors_map==6)"
      ],
      "execution_count": null,
      "outputs": [
        {
          "output_type": "execute_result",
          "data": {
            "text/plain": [
              "(array([   18,    30,    56, ..., 44939, 44958, 44992]),)"
            ]
          },
          "metadata": {
            "tags": []
          },
          "execution_count": 49
        }
      ]
    },
    {
      "cell_type": "code",
      "metadata": {
        "id": "Yt_L_g5TALk_",
        "colab": {
          "base_uri": "https://localhost:8080/",
          "height": 615
        },
        "outputId": "1571e7d2-e5e3-45a0-cf9c-063ff56e872f"
      },
      "source": [
        "colors = np.array([x for x in 'b-g-r-c-m-y-k-purple-coral-lime'.split('-')])\n",
        "colors_map = colors_map[:1000]\n",
        "plt.figure(figsize=(10,10))\n",
        "for cl in range(nb_classes):\n",
        "    indices = np.where(colors_map==cl)\n",
        "    plt.scatter(X_tsne[indices,0], X_tsne[indices, 1], c=colors[cl], label=cl)\n",
        "plt.legend()\n",
        "plt.show()"
      ],
      "execution_count": null,
      "outputs": [
        {
          "output_type": "display_data",
          "data": {
            "image/png": "[encoded data removed]",
            "text/plain": [
              "<Figure size 720x720 with 1 Axes>"
            ]
          },
          "metadata": {
            "tags": []
          }
        }
      ]
    },
    {
      "cell_type": "markdown",
      "metadata": {
        "id": "Pd4TKI6rALlF"
      },
      "source": [
        "## Using Bokeh (Interactive Chart)"
      ]
    },
    {
      "cell_type": "code",
      "metadata": {
        "id": "XAKfeV8LALlG"
      },
      "source": [
        "from bokeh.plotting import figure, show\n",
        "from bokeh.io import output_notebook"
      ],
      "execution_count": null,
      "outputs": []
    },
    {
      "cell_type": "code",
      "metadata": {
        "id": "DUAOqKSfALlO",
        "colab": {
          "base_uri": "https://localhost:8080/",
          "height": 637
        },
        "outputId": "5148dd73-50cf-4c07-8d55-751f6fd17f0c"
      },
      "source": [
        "p = figure(plot_width=600, plot_height=600)\n",
        "\n",
        "colors = [x for x in 'blue-green-red-cyan-magenta-yellow-black-purple-coral-lime'.split('-')]\n",
        "colors_map = colors_map[:1000]\n",
        "output_notebook()\n",
        "for cl in range(nb_classes):\n",
        "    indices = np.where(colors_map==cl)\n",
        "    p.circle(X_tsne[indices, 0].ravel(), X_tsne[indices, 1].ravel(), size=7, \n",
        "             color=colors[cl], alpha=0.4, legend_label=str(cl))\n",
        "\n",
        "# show the results\n",
        "p.legend.location = 'bottom_right'\n",
        "show(p)"
      ],
      "execution_count": null,
      "outputs": [
        {
          "output_type": "display_data",
          "data": {
            "application/javascript": [
              "\n",
              "(function(root) {\n",
              "  function now() {\n",
              "    return new Date();\n",
              "  }\n",
              "\n",
              "  var force = true;\n",
              "\n",
              "  if (typeof (root._bokeh_onload_callbacks) === \"undefined\" || force === true) {\n",
              "    root._bokeh_onload_callbacks = [];\n",
              "    root._bokeh_is_loading = undefined;\n",
              "  }\n",
              "\n",
              "  var JS_MIME_TYPE = 'application/javascript';\n",
              "  var HTML_MIME_TYPE = 'text/html';\n",
              "  var EXEC_MIME_TYPE = 'application/vnd.bokehjs_exec.v0+json';\n",
              "  var CLASS_NAME = 'output_bokeh rendered_html';\n",
              "\n",
              "  /**\n",
              "   * Render data to the DOM node\n",
              "   */\n",
              "  function render(props, node) {\n",
              "    var script = document.createElement(\"script\");\n",
              "    node.appendChild(script);\n",
              "  }\n",
              "\n",
              "  /**\n",
              "   * Handle when an output is cleared or removed\n",
              "   */\n",
              "  function handleClearOutput(event, handle) {\n",
              "    var cell = handle.cell;\n",
              "\n",
              "    var id = cell.output_area._bokeh_element_id;\n",
              "    var server_id = cell.output_area._bokeh_server_id;\n",
              "    // Clean up Bokeh references\n",
              "    if (id != null && id in Bokeh.index) {\n",
              "      Bokeh.index[id].model.document.clear();\n",
              "      delete Bokeh.index[id];\n",
              "    }\n",
              "\n",
              "    if (server_id !== undefined) {\n",
              "      // Clean up Bokeh references\n",
              "      var cmd = \"from bokeh.io.state import curstate; print(curstate().uuid_to_server['\" + server_id + \"'].get_sessions()[0].document.roots[0]._id)\";\n",
              "      cell.notebook.kernel.execute(cmd, {\n",
              "        iopub: {\n",
              "          output: function(msg) {\n",
              "            var id = msg.content.text.trim();\n",
              "            if (id in Bokeh.index) {\n",
              "              Bokeh.index[id].model.document.clear();\n",
              "              delete Bokeh.index[id];\n",
              "            }\n",
              "          }\n",
              "        }\n",
              "      });\n",
              "      // Destroy server and session\n",
              "      var cmd = \"import bokeh.io.notebook as ion; ion.destroy_server('\" + server_id + \"')\";\n",
              "      cell.notebook.kernel.execute(cmd);\n",
              "    }\n",
              "  }\n",
              "\n",
              "  /**\n",
              "   * Handle when a new output is added\n",
              "   */\n",
              "  function handleAddOutput(event, handle) {\n",
              "    var output_area = handle.output_area;\n",
              "    var output = handle.output;\n",
              "\n",
              "    // limit handleAddOutput to display_data with EXEC_MIME_TYPE content only\n",
              "    if ((output.output_type != \"display_data\") || (!output.data.hasOwnProperty(EXEC_MIME_TYPE))) {\n",
              "      return\n",
              "    }\n",
              "\n",
              "    var toinsert = output_area.element.find(\".\" + CLASS_NAME.split(' ')[0]);\n",
              "\n",
              "    if (output.metadata[EXEC_MIME_TYPE][\"id\"] !== undefined) {\n",
              "      toinsert[toinsert.length - 1].firstChild.textContent = output.data[JS_MIME_TYPE];\n",
              "      // store reference to embed id on output_area\n",
              "      output_area._bokeh_element_id = output.metadata[EXEC_MIME_TYPE][\"id\"];\n",
              "    }\n",
              "    if (output.metadata[EXEC_MIME_TYPE][\"server_id\"] !== undefined) {\n",
              "      var bk_div = document.createElement(\"div\");\n",
              "      bk_div.innerHTML = output.data[HTML_MIME_TYPE];\n",
              "      var script_attrs = bk_div.children[0].attributes;\n",
              "      for (var i = 0; i < script_attrs.length; i++) {\n",
              "        toinsert[toinsert.length - 1].firstChild.setAttribute(script_attrs[i].name, script_attrs[i].value);\n",
              "      }\n",
              "      // store reference to server id on output_area\n",
              "      output_area._bokeh_server_id = output.metadata[EXEC_MIME_TYPE][\"server_id\"];\n",
              "    }\n",
              "  }\n",
              "\n",
              "  function register_renderer(events, OutputArea) {\n",
              "\n",
              "    function append_mime(data, metadata, element) {\n",
              "      // create a DOM node to render to\n",
              "      var toinsert = this.create_output_subarea(\n",
              "        metadata,\n",
              "        CLASS_NAME,\n",
              "        EXEC_MIME_TYPE\n",
              "      );\n",
              "      this.keyboard_manager.register_events(toinsert);\n",
              "      // Render to node\n",
              "      var props = {data: data, metadata: metadata[EXEC_MIME_TYPE]};\n",
              "      render(props, toinsert[toinsert.length - 1]);\n",
              "      element.append(toinsert);\n",
              "      return toinsert\n",
              "    }\n",
              "\n",
              "    /* Handle when an output is cleared or removed */\n",
              "    events.on('clear_output.CodeCell', handleClearOutput);\n",
              "    events.on('delete.Cell', handleClearOutput);\n",
              "\n",
              "    /* Handle when a new output is added */\n",
              "    events.on('output_added.OutputArea', handleAddOutput);\n",
              "\n",
              "    /**\n",
              "     * Register the mime type and append_mime function with output_area\n",
              "     */\n",
              "    OutputArea.prototype.register_mime_type(EXEC_MIME_TYPE, append_mime, {\n",
              "      /* Is output safe? */\n",
              "      safe: true,\n",
              "      /* Index of renderer in `output_area.display_order` */\n",
              "      index: 0\n",
              "    });\n",
              "  }\n",
              "\n",
              "  // register the mime type if in Jupyter Notebook environment and previously unregistered\n",
              "  if (root.Jupyter !== undefined) {\n",
              "    var events = require('base/js/events');\n",
              "    var OutputArea = require('notebook/js/outputarea').OutputArea;\n",
              "\n",
              "    if (OutputArea.prototype.mime_types().indexOf(EXEC_MIME_TYPE) == -1) {\n",
              "      register_renderer(events, OutputArea);\n",
              "    }\n",
              "  }\n",
              "\n",
              "  \n",
              "  if (typeof (root._bokeh_timeout) === \"undefined\" || force === true) {\n",
              "    root._bokeh_timeout = Date.now() + 5000;\n",
              "    root._bokeh_failed_load = false;\n",
              "  }\n",
              "\n",
              "  var NB_LOAD_WARNING = {'data': {'text/html':\n",
              "     \"<div style='background-color: #fdd'>\\n\"+\n",
              "     \"<p>\\n\"+\n",
              "     \"BokehJS does not appear to have successfully loaded. If loading BokehJS from CDN, this \\n\"+\n",
              "     \"may be due to a slow or bad network connection. Possible fixes:\\n\"+\n",
              "     \"</p>\\n\"+\n",
              "     \"<ul>\\n\"+\n",
              "     \"<li>re-rerun `output_notebook()` to attempt to load from CDN again, or</li>\\n\"+\n",
              "     \"<li>use INLINE resources instead, as so:</li>\\n\"+\n",
              "     \"</ul>\\n\"+\n",
              "     \"<code>\\n\"+\n",
              "     \"from bokeh.resources import INLINE\\n\"+\n",
              "     \"output_notebook(resources=INLINE)\\n\"+\n",
              "     \"</code>\\n\"+\n",
              "     \"</div>\"}};\n",
              "\n",
              "  function display_loaded() {\n",
              "    var el = document.getElementById(null);\n",
              "    if (el != null) {\n",
              "      el.textContent = \"BokehJS is loading...\";\n",
              "    }\n",
              "    if (root.Bokeh !== undefined) {\n",
              "      if (el != null) {\n",
              "        el.textContent = \"BokehJS \" + root.Bokeh.version + \" successfully loaded.\";\n",
              "      }\n",
              "    } else if (Date.now() < root._bokeh_timeout) {\n",
              "      setTimeout(display_loaded, 100)\n",
              "    }\n",
              "  }\n",
              "\n",
              "\n",
              "  function run_callbacks() {\n",
              "    try {\n",
              "      root._bokeh_onload_callbacks.forEach(function(callback) { callback() });\n",
              "    }\n",
              "    finally {\n",
              "      delete root._bokeh_onload_callbacks\n",
              "    }\n",
              "    console.info(\"Bokeh: all callbacks have finished\");\n",
              "  }\n",
              "\n",
              "  function load_libs(js_urls, callback) {\n",
              "    root._bokeh_onload_callbacks.push(callback);\n",
              "    if (root._bokeh_is_loading > 0) {\n",
              "      console.log(\"Bokeh: BokehJS is being loaded, scheduling callback at\", now());\n",
              "      return null;\n",
              "    }\n",
              "    if (js_urls == null || js_urls.length === 0) {\n",
              "      run_callbacks();\n",
              "      return null;\n",
              "    }\n",
              "    console.log(\"Bokeh: BokehJS not loaded, scheduling load and callback at\", now());\n",
              "    root._bokeh_is_loading = js_urls.length;\n",
              "    for (var i = 0; i < js_urls.length; i++) {\n",
              "      var url = js_urls[i];\n",
              "      var s = document.createElement('script');\n",
              "      s.src = url;\n",
              "      s.async = false;\n",
              "      s.onreadystatechange = s.onload = function() {\n",
              "        root._bokeh_is_loading--;\n",
              "        if (root._bokeh_is_loading === 0) {\n",
              "          console.log(\"Bokeh: all BokehJS libraries loaded\");\n",
              "          run_callbacks()\n",
              "        }\n",
              "      };\n",
              "      s.onerror = function() {\n",
              "        console.warn(\"failed to load library \" + url);\n",
              "      };\n",
              "      console.log(\"Bokeh: injecting script tag for BokehJS library: \", url);\n",
              "      document.getElementsByTagName(\"head\")[0].appendChild(s);\n",
              "    }\n",
              "  };\n",
              "\n",
              "  var js_urls = [\"https://cdn.pydata.org/bokeh/release/bokeh-1.0.4.min.js\", \"https://cdn.pydata.org/bokeh/release/bokeh-widgets-1.0.4.min.js\", \"https://cdn.pydata.org/bokeh/release/bokeh-tables-1.0.4.min.js\", \"https://cdn.pydata.org/bokeh/release/bokeh-gl-1.0.4.min.js\"];\n",
              "\n",
              "  var inline_js = [\n",
              "    function(Bokeh) {\n",
              "      Bokeh.set_log_level(\"info\");\n",
              "    },\n",
              "    \n",
              "    function(Bokeh) {\n",
              "      \n",
              "    },\n",
              "    function(Bokeh) {\n",
              "      console.log(\"Bokeh: injecting CSS: https://cdn.pydata.org/bokeh/release/bokeh-1.0.4.min.css\");\n",
              "      Bokeh.embed.inject_css(\"https://cdn.pydata.org/bokeh/release/bokeh-1.0.4.min.css\");\n",
              "      console.log(\"Bokeh: injecting CSS: https://cdn.pydata.org/bokeh/release/bokeh-widgets-1.0.4.min.css\");\n",
              "      Bokeh.embed.inject_css(\"https://cdn.pydata.org/bokeh/release/bokeh-widgets-1.0.4.min.css\");\n",
              "      console.log(\"Bokeh: injecting CSS: https://cdn.pydata.org/bokeh/release/bokeh-tables-1.0.4.min.css\");\n",
              "      Bokeh.embed.inject_css(\"https://cdn.pydata.org/bokeh/release/bokeh-tables-1.0.4.min.css\");\n",
              "    }\n",
              "  ];\n",
              "\n",
              "  function run_inline_js() {\n",
              "    \n",
              "    if ((root.Bokeh !== undefined) || (force === true)) {\n",
              "      for (var i = 0; i < inline_js.length; i++) {\n",
              "        inline_js[i].call(root, root.Bokeh);\n",
              "      }} else if (Date.now() < root._bokeh_timeout) {\n",
              "      setTimeout(run_inline_js, 100);\n",
              "    } else if (!root._bokeh_failed_load) {\n",
              "      console.log(\"Bokeh: BokehJS failed to load within specified timeout.\");\n",
              "      root._bokeh_failed_load = true;\n",
              "    } else if (force !== true) {\n",
              "      var cell = $(document.getElementById(null)).parents('.cell').data().cell;\n",
              "      cell.output_area.append_execute_result(NB_LOAD_WARNING)\n",
              "    }\n",
              "\n",
              "  }\n",
              "\n",
              "  if (root._bokeh_is_loading === 0) {\n",
              "    console.log(\"Bokeh: BokehJS loaded, going straight to plotting\");\n",
              "    run_inline_js();\n",
              "  } else {\n",
              "    load_libs(js_urls, function() {\n",
              "      console.log(\"Bokeh: BokehJS plotting callback run at\", now());\n",
              "      run_inline_js();\n",
              "    });\n",
              "  }\n",
              "}(window));"
            ],
            "application/vnd.bokehjs_load.v0+json": "\n(function(root) {\n  function now() {\n    return new Date();\n  }\n\n  var force = true;\n\n  if (typeof (root._bokeh_onload_callbacks) === \"undefined\" || force === true) {\n    root._bokeh_onload_callbacks = [];\n    root._bokeh_is_loading = undefined;\n  }\n\n  \n\n  \n  if (typeof (root._bokeh_timeout) === \"undefined\" || force === true) {\n    root._bokeh_timeout = Date.now() + 5000;\n    root._bokeh_failed_load = false;\n  }\n\n  var NB_LOAD_WARNING = {'data': {'text/html':\n     \"<div style='background-color: #fdd'>\\n\"+\n     \"<p>\\n\"+\n     \"BokehJS does not appear to have successfully loaded. If loading BokehJS from CDN, this \\n\"+\n     \"may be due to a slow or bad network connection. Possible fixes:\\n\"+\n     \"</p>\\n\"+\n     \"<ul>\\n\"+\n     \"<li>re-rerun `output_notebook()` to attempt to load from CDN again, or</li>\\n\"+\n     \"<li>use INLINE resources instead, as so:</li>\\n\"+\n     \"</ul>\\n\"+\n     \"<code>\\n\"+\n     \"from bokeh.resources import INLINE\\n\"+\n     \"output_notebook(resources=INLINE)\\n\"+\n     \"</code>\\n\"+\n     \"</div>\"}};\n\n  function display_loaded() {\n    var el = document.getElementById(null);\n    if (el != null) {\n      el.textContent = \"BokehJS is loading...\";\n    }\n    if (root.Bokeh !== undefined) {\n      if (el != null) {\n        el.textContent = \"BokehJS \" + root.Bokeh.version + \" successfully loaded.\";\n      }\n    } else if (Date.now() < root._bokeh_timeout) {\n      setTimeout(display_loaded, 100)\n    }\n  }\n\n\n  function run_callbacks() {\n    try {\n      root._bokeh_onload_callbacks.forEach(function(callback) { callback() });\n    }\n    finally {\n      delete root._bokeh_onload_callbacks\n    }\n    console.info(\"Bokeh: all callbacks have finished\");\n  }\n\n  function load_libs(js_urls, callback) {\n    root._bokeh_onload_callbacks.push(callback);\n    if (root._bokeh_is_loading > 0) {\n      console.log(\"Bokeh: BokehJS is being loaded, scheduling callback at\", now());\n      return null;\n    }\n    if (js_urls == null || js_urls.length === 0) {\n      run_callbacks();\n      return null;\n    }\n    console.log(\"Bokeh: BokehJS not loaded, scheduling load and callback at\", now());\n    root._bokeh_is_loading = js_urls.length;\n    for (var i = 0; i < js_urls.length; i++) {\n      var url = js_urls[i];\n      var s = document.createElement('script');\n      s.src = url;\n      s.async = false;\n      s.onreadystatechange = s.onload = function() {\n        root._bokeh_is_loading--;\n        if (root._bokeh_is_loading === 0) {\n          console.log(\"Bokeh: all BokehJS libraries loaded\");\n          run_callbacks()\n        }\n      };\n      s.onerror = function() {\n        console.warn(\"failed to load library \" + url);\n      };\n      console.log(\"Bokeh: injecting script tag for BokehJS library: \", url);\n      document.getElementsByTagName(\"head\")[0].appendChild(s);\n    }\n  };\n\n  var js_urls = [\"https://cdn.pydata.org/bokeh/release/bokeh-1.0.4.min.js\", \"https://cdn.pydata.org/bokeh/release/bokeh-widgets-1.0.4.min.js\", \"https://cdn.pydata.org/bokeh/release/bokeh-tables-1.0.4.min.js\", \"https://cdn.pydata.org/bokeh/release/bokeh-gl-1.0.4.min.js\"];\n\n  var inline_js = [\n    function(Bokeh) {\n      Bokeh.set_log_level(\"info\");\n    },\n    \n    function(Bokeh) {\n      \n    },\n    function(Bokeh) {\n      console.log(\"Bokeh: injecting CSS: https://cdn.pydata.org/bokeh/release/bokeh-1.0.4.min.css\");\n      Bokeh.embed.inject_css(\"https://cdn.pydata.org/bokeh/release/bokeh-1.0.4.min.css\");\n      console.log(\"Bokeh: injecting CSS: https://cdn.pydata.org/bokeh/release/bokeh-widgets-1.0.4.min.css\");\n      Bokeh.embed.inject_css(\"https://cdn.pydata.org/bokeh/release/bokeh-widgets-1.0.4.min.css\");\n      console.log(\"Bokeh: injecting CSS: https://cdn.pydata.org/bokeh/release/bokeh-tables-1.0.4.min.css\");\n      Bokeh.embed.inject_css(\"https://cdn.pydata.org/bokeh/release/bokeh-tables-1.0.4.min.css\");\n    }\n  ];\n\n  function run_inline_js() {\n    \n    if ((root.Bokeh !== undefined) || (force === true)) {\n      for (var i = 0; i < inline_js.length; i++) {\n        inline_js[i].call(root, root.Bokeh);\n      }} else if (Date.now() < root._bokeh_timeout) {\n      setTimeout(run_inline_js, 100);\n    } else if (!root._bokeh_failed_load) {\n      console.log(\"Bokeh: BokehJS failed to load within specified timeout.\");\n      root._bokeh_failed_load = true;\n    } else if (force !== true) {\n      var cell = $(document.getElementById(null)).parents('.cell').data().cell;\n      cell.output_area.append_execute_result(NB_LOAD_WARNING)\n    }\n\n  }\n\n  if (root._bokeh_is_loading === 0) {\n    console.log(\"Bokeh: BokehJS loaded, going straight to plotting\");\n    run_inline_js();\n  } else {\n    load_libs(js_urls, function() {\n      console.log(\"Bokeh: BokehJS plotting callback run at\", now());\n      run_inline_js();\n    });\n  }\n}(window));"
          },
          "metadata": {
            "tags": []
          }
        },
        {
          "output_type": "display_data",
          "data": {
            "text/html": [
              "\n",
              "\n",
              "\n",
              "\n",
              "\n",
              "\n",
              "  <div class=\"bk-root\" id=\"1d9834bd-327a-4e6c-ab61-44fbaf62a619\" data-root-id=\"1001\"></div>\n"
            ]
          },
          "metadata": {
            "tags": []
          }
        },
        {
          "output_type": "display_data",
          "data": {
            "application/javascript": [
              "(function(root) {\n",
              "  function embed_document(root) {\n",
              "    \n",
              "  var docs_json = {\"dcb6851b-cdff-4c3e-ad06-3db7eb627c50\":{\"roots\":{\"references\":[{\"attributes\":{\"below\":[{\"id\":\"1010\",\"type\":\"LinearAxis\"}],\"left\":[{\"id\":\"1015\",\"type\":\"LinearAxis\"}],\"renderers\":[{\"id\":\"1010\",\"type\":\"LinearAxis\"},{\"id\":\"1014\",\"type\":\"Grid\"},{\"id\":\"1015\",\"type\":\"LinearAxis\"},{\"id\":\"1019\",\"type\":\"Grid\"},{\"id\":\"1028\",\"type\":\"BoxAnnotation\"},{\"id\":\"1047\",\"type\":\"Legend\"},{\"id\":\"1038\",\"type\":\"GlyphRenderer\"},{\"id\":\"1052\",\"type\":\"GlyphRenderer\"},{\"id\":\"1067\",\"type\":\"GlyphRenderer\"},{\"id\":\"1084\",\"type\":\"GlyphRenderer\"},{\"id\":\"1103\",\"type\":\"GlyphRenderer\"},{\"id\":\"1124\",\"type\":\"GlyphRenderer\"},{\"id\":\"1147\",\"type\":\"GlyphRenderer\"},{\"id\":\"1172\",\"type\":\"GlyphRenderer\"},{\"id\":\"1199\",\"type\":\"GlyphRenderer\"},{\"id\":\"1228\",\"type\":\"GlyphRenderer\"}],\"title\":{\"id\":\"1040\",\"type\":\"Title\"},\"toolbar\":{\"id\":\"1026\",\"type\":\"Toolbar\"},\"x_range\":{\"id\":\"1002\",\"type\":\"DataRange1d\"},\"x_scale\":{\"id\":\"1006\",\"type\":\"LinearScale\"},\"y_range\":{\"id\":\"1004\",\"type\":\"DataRange1d\"},\"y_scale\":{\"id\":\"1008\",\"type\":\"LinearScale\"}},\"id\":\"1001\",\"subtype\":\"Figure\",\"type\":\"Plot\"},{\"attributes\":{\"fill_alpha\":{\"value\":0.4},\"fill_color\":{\"value\":\"blue\"},\"line_alpha\":{\"value\":0.4},\"line_color\":{\"value\":\"blue\"},\"size\":{\"units\":\"screen\",\"value\":7},\"x\":{\"field\":\"x\"},\"y\":{\"field\":\"y\"}},\"id\":\"1036\",\"type\":\"Circle\"},{\"attributes\":{\"data_source\":{\"id\":\"1035\",\"type\":\"ColumnDataSource\"},\"glyph\":{\"id\":\"1036\",\"type\":\"Circle\"},\"hover_glyph\":null,\"muted_glyph\":null,\"nonselection_glyph\":{\"id\":\"1037\",\"type\":\"Circle\"},\"selection_glyph\":null,\"view\":{\"id\":\"1039\",\"type\":\"CDSView\"}},\"id\":\"1038\",\"type\":\"GlyphRenderer\"},{\"attributes\":{\"source\":{\"id\":\"1035\",\"type\":\"ColumnDataSource\"}},\"id\":\"1039\",\"type\":\"CDSView\"},{\"attributes\":{\"fill_alpha\":{\"value\":0.1},\"fill_color\":{\"value\":\"#1f77b4\"},\"line_alpha\":{\"value\":0.1},\"line_color\":{\"value\":\"#1f77b4\"},\"size\":{\"units\":\"screen\",\"value\":7},\"x\":{\"field\":\"x\"},\"y\":{\"field\":\"y\"}},\"id\":\"1037\",\"type\":\"Circle\"},{\"attributes\":{},\"id\":\"1078\",\"type\":\"Selection\"},{\"attributes\":{\"callback\":null,\"data\":{\"x\":{\"__ndarray__\":\"sxjRwUVG0cFza9jBzk/gwSDY+MFr2RXCzIjbwT513MGO19rByuAAwu0a1MHWFr/Bz+SfwVk+48FROunBupDOwQptt8Efb77By8XlwZD7BcJ9Ag/Cn0DKwYCysMEdBrTBN2Dawamu1MHo6tfBkyXUwbtLscGutubB+PMKwolAx8EytQDCsssKwjNpzMHbWrfBq9OnwSZfrsFcosbBIxbawevtrsFbY9LBidDewbxiw8GGlQHCqRbQwX9ar8H0AM7BBeTKwZivssHIRN3BWxTDwYS/zcHfsqHBgXzUwY5QB8I/oAbCOJfYwdQM68F6+dLBG74TwsuRpsGQb/HBkR6mwUVBu8G7QcTBQnbYwe957sEYUtvBHL/XwaAr8sFCBcHBrEAPwtMz5cH/KN7BCUvJwTHFycHf/q/B1UnJwQUpsMEpKwTCnvXTweW23sHIgL7BlEDwwXRY0MHrfdDBabnmwZTC3MFuiO3BpygEwsy04cE/M9/B0NjIwWlv1sFcB5zB/3jdwfehsMFyFOHB\",\"dtype\":\"float32\",\"shape\":[99]},\"y\":{\"__ndarray__\":\"K7CWQTm+t0F5dGdBFe0yQMNKikGHBeg/eHqMQT6mfEGN/YtAU/HMQJLKwj+jBRFBL31wQYgc2EChUI9B+beAQWnzPkHISDlBmsNwQd0Y4EGK9+s9vaqyQLy2pEHH/WFBTex0Qc5bjEGhwbw/wujQQA6bSUGSbC9AdhVKP8ObOUCvVzpAAXPiP+RHokDIsSJB6lFQQR7HSUHa8s5Amf0jQFeBV0HeP2RAZJWTQVqUoEDbldBAP3WNQOgiUEEY0dNAkpkLQSMqP0HBPG1BFzNbQHkhhUEiDU9Br7aPQZbR2j8IlpY/DYJPQBdCMUFX82VAv1ZLPlJ6aEFK4ENB5ZxtQfiVOEH4hcxAk1sRQaDOPUGgvmpAQ5kZQf6vikFOY69AFQskP95hLEGvAjlBui5oQefvaUA5p2ZBVaP4QLQebkEUt7o/0gK/QXaQhEB7lSdBMDGOP9Db/EB90zVAJNYLQUD+XT+H5IVAWs8BQNt7A0HGKLdBZZWmQMmYtEBS62ZBQUuhQUtxpEGT06pA\",\"dtype\":\"float32\",\"shape\":[99]}},\"selected\":{\"id\":\"1222\",\"type\":\"Selection\"},\"selection_policy\":{\"id\":\"1221\",\"type\":\"UnionRenderers\"}},\"id\":\"1169\",\"type\":\"ColumnDataSource\"},{\"attributes\":{},\"id\":\"1021\",\"type\":\"WheelZoomTool\"},{\"attributes\":{\"label\":{\"value\":\"2\"},\"renderers\":[{\"id\":\"1067\",\"type\":\"GlyphRenderer\"}]},\"id\":\"1080\",\"type\":\"LegendItem\"},{\"attributes\":{\"fill_alpha\":{\"value\":0.4},\"fill_color\":{\"value\":\"purple\"},\"line_alpha\":{\"value\":0.4},\"line_color\":{\"value\":\"purple\"},\"size\":{\"units\":\"screen\",\"value\":7},\"x\":{\"field\":\"x\"},\"y\":{\"field\":\"y\"}},\"id\":\"1170\",\"type\":\"Circle\"},{\"attributes\":{\"overlay\":{\"id\":\"1028\",\"type\":\"BoxAnnotation\"}},\"id\":\"1022\",\"type\":\"BoxZoomTool\"},{\"attributes\":{\"callback\":null,\"data\":{\"x\":{\"__ndarray__\":\"xBULQZ0ULUEuP9lAW6EdQL8SZkFcd3lBJX+WQHTDW0Eh0ShBZqhoQaGlXD/6nOg/1fN1QW56gkDHv7xA3mFQQV9OJEHn4b5AaoKpQI/RhEDCSKtA6JgWQVIx0UB1H3lAv//KQBORL0DH6K1BEq9WQffkB0FZNe1AQYa0QK9tH0BgziBBtgmlQCL5oD9HHixAe+WiPy0c5kB7gMFA9d2BP0Y+fUAFM/9AiRBdQVv0IEDIyoRAVhJ2QHr3cECxkl5BkfgrQawNP0BnrSdBWpEfQUlQAkBVmWBAzCcAPyFTM0AdU49A2d/mQP3s40B2PSNBE0NCQf42mEA6yL9APCvcQOPhuEAcCRdBqxFGQPVBRkAY40JAgyRUQeCuQED9jzxBT8JDQbriw0Be+mpASH+nQL+4h0AXkXVBnIHxQCFMC0EkORNBG2+VPxjHKUAGhDFBaY0QQSZ/0kCwhJxA82cTQQLfmkAA+8tA9814P1mtQEHvtxBBvSmDQQ==\",\"dtype\":\"float32\",\"shape\":[94]},\"y\":{\"__ndarray__\":\"hK7kwdtPFsLznL/BoGGbwRjrBsJXiALC6HEEwtRessBjVA7C9jHowDgreMGxJK7BY1kCwmxy7MHLJPbBz9mowbiPDMLypcbBdLPgwUiPg8EX9/zBKcYIwtwWCcLSUQDCECP+wWEwcsEkD8bBojYQwjZt2MFG29DB9tHbwdl5gMF4jxHCOGS7weFYYMGI6PXBPGOHwQjd4sHIb+fBDv+bwWuh68HfqgjC3aXxwVNilsE1lkjBa3jlwXsx+MHHNw/Cp/pvwU+zh8HFRQ/C/D7ywX1ugMGXF/7BvTiHwW4Dk8FRs+fBstD8wSnNvcGS79PBu2UTwpjYTsFeQ/zB+PP4wfoJjsHybA3CxCYHwSjkNMHvO3zBDekOwnBAN8FK3hTCKAgLwuqRicGOPuTBP8qpwcLB4MFVcwnCehYBwhehEMKbfhLCqaqhwcYsZcHKVw3COygKwgIKtsFVou3Bq2z8wQXK/MEMHNbBAluQwdrB3sGOPN3BYSN6wA==\",\"dtype\":\"float32\",\"shape\":[94]}},\"selected\":{\"id\":\"1118\",\"type\":\"Selection\"},\"selection_policy\":{\"id\":\"1117\",\"type\":\"UnionRenderers\"}},\"id\":\"1081\",\"type\":\"ColumnDataSource\"},{\"attributes\":{\"fill_alpha\":{\"value\":0.1},\"fill_color\":{\"value\":\"#1f77b4\"},\"line_alpha\":{\"value\":0.1},\"line_color\":{\"value\":\"#1f77b4\"},\"size\":{\"units\":\"screen\",\"value\":7},\"x\":{\"field\":\"x\"},\"y\":{\"field\":\"y\"}},\"id\":\"1171\",\"type\":\"Circle\"},{\"attributes\":{},\"id\":\"1023\",\"type\":\"SaveTool\"},{\"attributes\":{\"data_source\":{\"id\":\"1169\",\"type\":\"ColumnDataSource\"},\"glyph\":{\"id\":\"1170\",\"type\":\"Circle\"},\"hover_glyph\":null,\"muted_glyph\":null,\"nonselection_glyph\":{\"id\":\"1171\",\"type\":\"Circle\"},\"selection_glyph\":null,\"view\":{\"id\":\"1173\",\"type\":\"CDSView\"}},\"id\":\"1172\",\"type\":\"GlyphRenderer\"},{\"attributes\":{\"fill_alpha\":{\"value\":0.4},\"fill_color\":{\"value\":\"cyan\"},\"line_alpha\":{\"value\":0.4},\"line_color\":{\"value\":\"cyan\"},\"size\":{\"units\":\"screen\",\"value\":7},\"x\":{\"field\":\"x\"},\"y\":{\"field\":\"y\"}},\"id\":\"1082\",\"type\":\"Circle\"},{\"attributes\":{},\"id\":\"1024\",\"type\":\"ResetTool\"},{\"attributes\":{\"fill_alpha\":{\"value\":0.1},\"fill_color\":{\"value\":\"#1f77b4\"},\"line_alpha\":{\"value\":0.1},\"line_color\":{\"value\":\"#1f77b4\"},\"size\":{\"units\":\"screen\",\"value\":7},\"x\":{\"field\":\"x\"},\"y\":{\"field\":\"y\"}},\"id\":\"1083\",\"type\":\"Circle\"},{\"attributes\":{\"source\":{\"id\":\"1169\",\"type\":\"ColumnDataSource\"}},\"id\":\"1173\",\"type\":\"CDSView\"},{\"attributes\":{},\"id\":\"1025\",\"type\":\"HelpTool\"},{\"attributes\":{\"data_source\":{\"id\":\"1081\",\"type\":\"ColumnDataSource\"},\"glyph\":{\"id\":\"1082\",\"type\":\"Circle\"},\"hover_glyph\":null,\"muted_glyph\":null,\"nonselection_glyph\":{\"id\":\"1083\",\"type\":\"Circle\"},\"selection_glyph\":null,\"view\":{\"id\":\"1085\",\"type\":\"CDSView\"}},\"id\":\"1084\",\"type\":\"GlyphRenderer\"},{\"attributes\":{},\"id\":\"1192\",\"type\":\"UnionRenderers\"},{\"attributes\":{\"active_drag\":\"auto\",\"active_inspect\":\"auto\",\"active_multi\":null,\"active_scroll\":\"auto\",\"active_tap\":\"auto\",\"tools\":[{\"id\":\"1020\",\"type\":\"PanTool\"},{\"id\":\"1021\",\"type\":\"WheelZoomTool\"},{\"id\":\"1022\",\"type\":\"BoxZoomTool\"},{\"id\":\"1023\",\"type\":\"SaveTool\"},{\"id\":\"1024\",\"type\":\"ResetTool\"},{\"id\":\"1025\",\"type\":\"HelpTool\"}]},\"id\":\"1026\",\"type\":\"Toolbar\"},{\"attributes\":{\"callback\":null,\"data\":{\"x\":{\"__ndarray__\":\"TQkxwWX4CcGmUM3AT69bwTUPcsHmWivBRLc9wQXDYsFz8jzBUwIdwe+VYUFn+9rAsylmwe4lEsEOuU/BTwVZwfI9X8HI7WvBv24/wd0NMMHOP0rByqBawRU/I8EceGDBcUpBwRFlJ8E7ZTvBMP9WweWiRsF9JgTB7fYxwVG4ZcG+FyHBeuaQQYGjPsHK3WzBQHFQwXOTY8GzkSXB6acXwUbiJMF4sFdAJ+g7wSBcUMFcrFLBmOwXwQTIZMHH6SfBa4FCwZX7McEoBCPBbB+BwOMVaMHjkkPBuTQ9wJJXV8EWakrBRtGvQE9R6sDuEV7BStJYwV300j+dGas/ZCNIwRPmcMF2wzvBWhcDwfuFN8F63FbBeVhHwXPkJcFURBfBqqQuwQSIQsDRqBTBjJhIweBVEMCiIknBLFYAwfQnMsFQkSvAqRdLwdy2ZsFyDAvBRxFiQc6xdEBVMizBEYZqwR1fVsH12mrBgSUGwQ==\",\"dtype\":\"float32\",\"shape\":[91]},\"y\":{\"__ndarray__\":\"vVAJwp4L48HbMAnCKcgIwh31DMKtWfTBkpQOwuraHMKVVQHCoIkTwod0scFQGfHB6db3wSGmCMK9UwPCFDMUwoLu58HbVQbCsRoSwmB7EsK3wwrC1QT0wbjx7cG8ou7Bicf8wYAMBcJlK+rB65vcwcUcBcLk8PjBOp7vwcdOCsLr0wHCFXjqvoJPBMLJWvPBCPQWwuA538H6sgfCOjAUwq/9DsId5RjBjJESwqUU/8Fx7PLBuMIIwvpfHsLPphHCTUvZwa9iGMIiNuTBSY3/wWCrG8IxYOHBUSHwwUZbC8LYUuzBZV9XwX0V78GvOhPCGXQJwvSjmcFL8aXBAN76wZ7858Em1AjCla3nwXYP9cE4cOfBcL8Ywirh68FHBw/C03D7wSjW8sEzJuTBcDsWwkZc68HJxubBlzoIwpuTA8J0BPXBGAIQwif9/sGOTPbBquCwwdvUKsEmzArCGAAEwl8NGcI0hd7BqfcKwg==\",\"dtype\":\"float32\",\"shape\":[91]}},\"selected\":{\"id\":\"1078\",\"type\":\"Selection\"},\"selection_policy\":{\"id\":\"1077\",\"type\":\"UnionRenderers\"}},\"id\":\"1049\",\"type\":\"ColumnDataSource\"},{\"attributes\":{\"source\":{\"id\":\"1081\",\"type\":\"ColumnDataSource\"}},\"id\":\"1085\",\"type\":\"CDSView\"},{\"attributes\":{},\"id\":\"1193\",\"type\":\"Selection\"},{\"attributes\":{\"bottom_units\":\"screen\",\"fill_alpha\":{\"value\":0.5},\"fill_color\":{\"value\":\"lightgrey\"},\"left_units\":\"screen\",\"level\":\"overlay\",\"line_alpha\":{\"value\":1.0},\"line_color\":{\"value\":\"black\"},\"line_dash\":[4,4],\"line_width\":{\"value\":2},\"plot\":null,\"render_mode\":\"css\",\"right_units\":\"screen\",\"top_units\":\"screen\"},\"id\":\"1028\",\"type\":\"BoxAnnotation\"},{\"attributes\":{\"label\":{\"value\":\"7\"},\"renderers\":[{\"id\":\"1172\",\"type\":\"GlyphRenderer\"}]},\"id\":\"1195\",\"type\":\"LegendItem\"},{\"attributes\":{},\"id\":\"1096\",\"type\":\"UnionRenderers\"},{\"attributes\":{},\"id\":\"1097\",\"type\":\"Selection\"},{\"attributes\":{\"callback\":null,\"data\":{\"x\":{\"__ndarray__\":\"VcK6QAPj1ECe+8xA3f6BQKIv0j9PMsq/fyvwP90YAT/nhuVAtDuFwGfbEkIefHRA47H7QNusj0AoygNBCXrXQF/b1kDo0MtAsBkJwLoGlUAe6KBAzYSGQG7TmkBKBvdA9jmuQScR0kCVh6TAn2GZQNOyPUBGt+1AnUcQwA9NokBTIsNA9vitQGv9+kBVZlFAFLCTQM1chkEVGGlABklnQCvizD92qC5A3SLRQIiBPkDz3fBAKGhyP5BnmUBg1pFARD6bQATCEkJOKbBAhYx5QOnpQsBf/w1CSn/bP2+Z6T9giwQ/pJ8ewCCQjkCVjdRAUSBOwBg8qD8e9Dy/qdkSQSC/l78IlTDA/hsJQSzWFz5mHAo+uRb2v9eYNEDbI9NAnh9Gv1SlC0GmXwBA4o+mQNPsXMALUXhAEdAnQQ8Ml0DKbJJA/bmBQAGevECua6Y/hyyBQMy3/kB+gDW/yRpFQO+yA0ErwiNAlYvcPxg7ND89IDVA8VUFQuOkaT+Bvt5A+oACQCHTaUC2nZhAHdlGQA==\",\"dtype\":\"float32\",\"shape\":[100]},\"y\":{\"__ndarray__\":\"8M6CQZKJGUHiamdBkXAMQV61skEpu6lBgbVJwdU9skFZAkhBfZGjQUoTkUES0S9Box5WQe6dmUHL0UFBiNZ6QU+8eEGcZxpBmaKbQdTeK8DEMn9BTC3FQYhKBEEdbkBB1ZALQYlBhUF0a6JBvHiPQbdkaEFLtYVBcpGnQQKzj0EJ0hxBEbaPQf7jLUG/JcZB12x1QTdccMGyDsFBTeBqQRarlUHZvoRBJa8/QU3El7+BlEBB75iYQeKc9UDiehxBe4iDQa8OkEGJOCRBJpw/Qa2EokF3dohBZf5OwROavkEtH7RBP3+iQV29i0HuYF5BsyKsQQecikEzI6NBAXcPQPB1rkFTHLRBqypFQaSdt0FuTLRBbzGhQVQgh0EMJhBA/+6lQXREM0GjGsZBv+cTQawhpEH5a8tBGBfvQBFXxkFbQ5tB7IiEv3jikEEa8E/BBj50Qb3OWkG8iatBgVmOQQWxUUFo/L9Bz2q7QcBKvkG0LIRBqkuJQbL9gEH26mlBjy6+QcbujkFhUhtBFDjCQQ==\",\"dtype\":\"float32\",\"shape\":[100]}},\"selected\":{\"id\":\"1253\",\"type\":\"Selection\"},\"selection_policy\":{\"id\":\"1252\",\"type\":\"UnionRenderers\"}},\"id\":\"1196\",\"type\":\"ColumnDataSource\"},{\"attributes\":{\"label\":{\"value\":\"3\"},\"renderers\":[{\"id\":\"1084\",\"type\":\"GlyphRenderer\"}]},\"id\":\"1099\",\"type\":\"LegendItem\"},{\"attributes\":{\"fill_alpha\":{\"value\":0.4},\"fill_color\":{\"value\":\"coral\"},\"line_alpha\":{\"value\":0.4},\"line_color\":{\"value\":\"coral\"},\"size\":{\"units\":\"screen\",\"value\":7},\"x\":{\"field\":\"x\"},\"y\":{\"field\":\"y\"}},\"id\":\"1197\",\"type\":\"Circle\"},{\"attributes\":{\"callback\":null,\"data\":{\"x\":{\"__ndarray__\":\"YUwUQseD5EFoS4hBUp56QR0jqEAbXgZCoBaVQQC5tUFLI+1By5XcQZt6j0EW3SVBI2gMQtaB/EGrPNxBl8kdQoBSz0GS7QlCyx4WQoY6BELMyrNAqFh3QRZME0J4gUVB3koUQjCFokA+7thBda8UQj6++EGKEAZCab8CQo1l/UEY3xVC/QwKQpzSw0EqwL1BD1UDQlmAA0KaaSBCbKjcQQuOjUGCnLbAxZ0bQlC+CEJd+g1CRfX2QV2I0kFWsFVB+h7EQYvkAEJajohB/dKFQVGRBEI/zRFCNB+SQB9LE0IBlZ9BB0WDQcu3xkFxWKxBoVPDQcyTrUHCIwBChHd6QcnZ0kEdhuVBeywGQpoFhkGaZARCvggXQhdMFELlHo1AC1UfQsbg5UHLtxlCNGXHQd61jEFM8gdCLqNzQQW84EHXNgxC+xP7QJSiJEIPAQ5C/JjeQZsnsr6w6OVByAHzQSxSgkCpx8BBoa99QVn2gkFlI9FBFcTeQENT+0FxLb5B4SAJQuV5/UGtgfxBzYEYQrE3hEGWQxdCVHPbQY7Ph0FUDt1BRHQVQp7XGkJLygxCcObUQYjqgkBVnsNBJ7L8Qe6QEEKQUshB1lANQtFPBUIopMBBWX7mQUmI40F2HolBKZOXQUf2HkJuSnhB\",\"dtype\":\"float32\",\"shape\":[123]},\"y\":{\"__ndarray__\":\"W/ZyQUOPuj98QAHCGSgBwuyIZcEMQgRBKCz8wUxR/UDDxqBAC/awP60x/cFqAwnCblnoQHxeA0EAIE1BM2RTQc+QxD6VlUFBQvGeQKPuQEGmEWfB9+/4wbGdn0CdURLAEJ/lQCtmwcHVRZdA8Tv3QJ3Sz0CFlxxBRNQTQTbaTEC5twVAjToYQUZuLcDCmtG/vbAOQMxWBkEk5PA/+pS2QPHoEcCzJAzCYbgcQI6HRUE5315A3MoqQSm/Tz+9e+fB3dI+wPOYxkBWRvnBh7f8wUJdhUChpndBT+DFwdbGxT+q9gJAf63Nv/UY3D8k+wzANMALwG8ZFMCnDPlAk8Wevtd+7j9siydBJLYUQZfciMB1iDpAmB7eP5/NbUFtrbvBzfIvQIREz0BCaW9B0UtZQPhn/cGvzutAfXwEwumiyj8P6RVBPqq3wJSE9T937j1Ac5FOQf5Ah8Er66NAKoADQNe0r8DOP5c/97gAwloaVcAoCitB7t4IwolzS0FlsZNAJJNdQH39G0CggS9BvvFNQZHQkT0bKl1BYfmtQAZ+BcJnbUtB//1YQVVna0FYWgBBC3QfQG7izMFVDZHArx4SQLk4FUEL3li/fpB0P2s5RUEf4V8+Z+LkQFKPNEAsYgXCzZr8wdSy1z+/WIPA\",\"dtype\":\"float32\",\"shape\":[123]}},\"selected\":{\"id\":\"1141\",\"type\":\"Selection\"},\"selection_policy\":{\"id\":\"1140\",\"type\":\"UnionRenderers\"}},\"id\":\"1100\",\"type\":\"ColumnDataSource\"},{\"attributes\":{\"fill_alpha\":{\"value\":0.1},\"fill_color\":{\"value\":\"#1f77b4\"},\"line_alpha\":{\"value\":0.1},\"line_color\":{\"value\":\"#1f77b4\"},\"size\":{\"units\":\"screen\",\"value\":7},\"x\":{\"field\":\"x\"},\"y\":{\"field\":\"y\"}},\"id\":\"1198\",\"type\":\"Circle\"},{\"attributes\":{\"data_source\":{\"id\":\"1196\",\"type\":\"ColumnDataSource\"},\"glyph\":{\"id\":\"1197\",\"type\":\"Circle\"},\"hover_glyph\":null,\"muted_glyph\":null,\"nonselection_glyph\":{\"id\":\"1198\",\"type\":\"Circle\"},\"selection_glyph\":null,\"view\":{\"id\":\"1200\",\"type\":\"CDSView\"}},\"id\":\"1199\",\"type\":\"GlyphRenderer\"},{\"attributes\":{\"fill_alpha\":{\"value\":0.4},\"fill_color\":{\"value\":\"magenta\"},\"line_alpha\":{\"value\":0.4},\"line_color\":{\"value\":\"magenta\"},\"size\":{\"units\":\"screen\",\"value\":7},\"x\":{\"field\":\"x\"},\"y\":{\"field\":\"y\"}},\"id\":\"1101\",\"type\":\"Circle\"},{\"attributes\":{\"callback\":null,\"data\":{\"x\":{\"__ndarray__\":\"WOTAQWOblUHQCgNBl/24QUSG3kFf/N5B25R1QSxgBUF+bYNBtQOCQaVJ3EHyITpB/F+zQS61s0H66KVA2C4ZQqTXVUF1aqZBY9aLQGDVV0EM4ahBuxPlQLwlhkByBR5Bs38HQUD0a0F7WxdBQemLQLNZXEG+PMhBL+XcQWHxFUF4IyRBbHKaQU/wj0HC684+YmpYQSIbAUH9hdRBlLCBQYhZu0ERfqpBk9q3Qcm3lEGBCJdAbczbQWkhf0EFchZB2HHUQZqVtkF/OtFBm5+iQY1FPEH/K4JBVzu7Qa5jx0HwWKdBRVbNQa8wO0GCPy9Bzgu3QVEXCEEOUo9A7m/PQbfmEkG4Lo5BSK21QUC/r0GF+J9BEUvWQVl+wkHUtiZBHYYhQQo+uUGZTklBIwMTQj2e10HIcYVB6U+EQB5YKEGEKNRB7fTcQTQGwkGhDEhB98rDQa8HZkF1+P9AmO3DQd7rc0GpMPNAgvSlQcOBV0FANspB6516QbBDuEFEpV9BR1EHQRZ+KkFLJxRC+46uQRZOs0E5jsNBxNPWQZl5VUHmL4hBjEgXQudqbkHsdGhB\",\"dtype\":\"float32\",\"shape\":[108]},\"y\":{\"__ndarray__\":\"0G/HwYtQlcGnjzHBQgFxQBcwtMFoGrDBvJCEwZBjJMGYWKjBIKCAweXBq8Ewa2vBmceiwcTSscFCyALBX/9xwLkA3MGxgdZAUAz5wHo13MFQTbLBGR8zwRdy9MDuiufB3O41wf4bisGeUMLBon1iwXHzhcEn3aHBoO+jwVo89cFYzS/BA4iiwaOZksEX0FjBRwWkwIW5wMEqqrDB+qqIwVlFnMEfngJBrMegwZiSnsGLoxfBEnu4wW0KnsEvJTTBt9S1wc1otMFicKrBF4Cmwb7rVsESGZPB8QyRwaLKqcFg94/Bkoe3wdOgB8KJvfPBgeG1wQ7pEMKTu9DA1V2jwU0vAkDtspvBsR/CwYt1qsGVbprBmQmkwT4IuMFcq/nBW+9Swc+Dv8GkynzBBmYpwIGVrcHdM5TBdo4FwcRG6sEOBZ7BhFXAwf3jwcHHV6nBwiWowfmOc8EU/svBRZ3EwdnPj8GmKwLBi5+pweYOgcHGuLHBbTuOwWx8xsEgsoLB3TrPwXTn3MF4jSvAM0WfwbQ5l8Gp6Z/Bp2S6wd1gisH5RZDBI9WBQeeMm8Fm84PB\",\"dtype\":\"float32\",\"shape\":[108]}},\"selected\":{\"id\":\"1061\",\"type\":\"Selection\"},\"selection_policy\":{\"id\":\"1060\",\"type\":\"UnionRenderers\"}},\"id\":\"1035\",\"type\":\"ColumnDataSource\"},{\"attributes\":{\"fill_alpha\":{\"value\":0.1},\"fill_color\":{\"value\":\"#1f77b4\"},\"line_alpha\":{\"value\":0.1},\"line_color\":{\"value\":\"#1f77b4\"},\"size\":{\"units\":\"screen\",\"value\":7},\"x\":{\"field\":\"x\"},\"y\":{\"field\":\"y\"}},\"id\":\"1102\",\"type\":\"Circle\"},{\"attributes\":{\"source\":{\"id\":\"1196\",\"type\":\"ColumnDataSource\"}},\"id\":\"1200\",\"type\":\"CDSView\"},{\"attributes\":{\"data_source\":{\"id\":\"1100\",\"type\":\"ColumnDataSource\"},\"glyph\":{\"id\":\"1101\",\"type\":\"Circle\"},\"hover_glyph\":null,\"muted_glyph\":null,\"nonselection_glyph\":{\"id\":\"1102\",\"type\":\"Circle\"},\"selection_glyph\":null,\"view\":{\"id\":\"1104\",\"type\":\"CDSView\"}},\"id\":\"1103\",\"type\":\"GlyphRenderer\"},{\"attributes\":{},\"id\":\"1221\",\"type\":\"UnionRenderers\"},{\"attributes\":{\"plot\":null,\"text\":\"\"},\"id\":\"1040\",\"type\":\"Title\"},{\"attributes\":{\"source\":{\"id\":\"1100\",\"type\":\"ColumnDataSource\"}},\"id\":\"1104\",\"type\":\"CDSView\"},{\"attributes\":{},\"id\":\"1222\",\"type\":\"Selection\"},{\"attributes\":{\"label\":{\"value\":\"8\"},\"renderers\":[{\"id\":\"1199\",\"type\":\"GlyphRenderer\"}]},\"id\":\"1224\",\"type\":\"LegendItem\"},{\"attributes\":{},\"id\":\"1117\",\"type\":\"UnionRenderers\"},{\"attributes\":{},\"id\":\"1118\",\"type\":\"Selection\"},{\"attributes\":{\"callback\":null,\"data\":{\"x\":{\"__ndarray__\":\"0ZkiwpoE+cFxYgXCj44jwqQaC8LIRxjCFYrZwY9j28FrDRjCXl4cwrQGHcKFsAPCe6XNwQC17MHlDuXBmqHvwdxR4sG5WRnCm6nJwcLg48EBvyPCvpYEwtxiDcI5mi3CNG3MwXUB0sF+KcLB4HEQwlLG8sEaFBPCcFEdwhVV08HpJgHCfV4BwsobC8J3fR3CdHHjwYTyEMLBtB/CaRwfwg+zFsIpWCjCafkdwkuI88HdlSXC7f3bwR1NA8KWvSzC1NDBwfQdEsIKVfHBkJMjwtyj/sE58iHCceoJwpK+KcLDbibCMT0Uwj5V+cHj5SjCFK0BwoVWDMKhINvBX3UBwhsgIcKpeNPBiNAVwmx1GsLmBB7CBEwbwvKk9sHMMNbBDcwJwpkLJcITdvfBwocSwlXUzMFzCxfCfF4Lwl5K68GVywHClCQjwhdSDcJE2tTBBRYhwq756sGPHwbCHOkbwoDU7MFFmxnCfuTTwRY03sH1UMjBv9j9wduS+cGShArCNqz5wcZtCcJ+yg/CYHEqwn9IHsLD0vnBRUIAwjIMKcJv9fLBI2z7waESBcJmvRbC2GMDwtCvC8I=\",\"dtype\":\"float32\",\"shape\":[110]},\"y\":{\"__ndarray__\":\"U9TSQfGu70EbIudB1LXLQcRn5EGx9rlBHtKnQV6UrEFOBLxBN1DhQfD63UEdjfFBffq8QQCatEH6fLhBT1PHQQhJpUHMvPFBMlqdQTYj0EEvYOFByGzWQfgLzUGU/dJBZA2RQckErEExqYlBAnjjQUYM4EFv2uJBd+j2QZqJuEGFUcZBONHQQW+7wEHz9PdB63GzQYsm9kHnz+VB3pTJQSA460EWauNBdJzsQcEIzkGWIudBes6eQb6ulUHcRMtBhOyWQfvK7kGEB8NBNLbDQZ0w20HCe61BbqHbQR651kFEMd5B013yQbnLkEHh79NBdtjLQYJowUHuCbxB1znjQTl4y0Ff6JVB6/XwQZdwzEFc1dFBjBfZQQYa2UHAwrRBLVDSQQc7xUH1qsNBZirSQXlKt0G3aeZBSKPZQdLqwEEfj4FBCTDKQQYQ8EE8bqBBHqi5QaJglUGEUZhBx70LQTj92EEvrc9BTG+nQQ4Xw0FikLBBf7CMQYNg9EHOtepB3ZrMQUBMy0GU+OdBNhTlQQE0wkEVNclBm6SIQawXyEFO2iNBeLzUQcyd10Gaw8ZB5fvOQebe9EE=\",\"dtype\":\"float32\",\"shape\":[110]}},\"selected\":{\"id\":\"1281\",\"type\":\"Selection\"},\"selection_policy\":{\"id\":\"1280\",\"type\":\"UnionRenderers\"}},\"id\":\"1225\",\"type\":\"ColumnDataSource\"},{\"attributes\":{},\"id\":\"1043\",\"type\":\"BasicTickFormatter\"},{\"attributes\":{\"label\":{\"value\":\"4\"},\"renderers\":[{\"id\":\"1103\",\"type\":\"GlyphRenderer\"}]},\"id\":\"1120\",\"type\":\"LegendItem\"},{\"attributes\":{\"fill_alpha\":{\"value\":0.4},\"fill_color\":{\"value\":\"lime\"},\"line_alpha\":{\"value\":0.4},\"line_color\":{\"value\":\"lime\"},\"size\":{\"units\":\"screen\",\"value\":7},\"x\":{\"field\":\"x\"},\"y\":{\"field\":\"y\"}},\"id\":\"1226\",\"type\":\"Circle\"},{\"attributes\":{},\"id\":\"1045\",\"type\":\"BasicTickFormatter\"},{\"attributes\":{\"callback\":null,\"data\":{\"x\":{\"__ndarray__\":\"SwgkwhMuIcIIbB/CMD8owk4pJMI7+ivC1OolwiiaGsKHqwzCdwciwmE/G8JLfgXC+ckLwng/2cEzhBLCqPuEQF6tDcLx+QHCt38gwhyszsGxPCbC2+v4weuFE8LVSxXC3T0LwoX3A8LVfCDCA/kCwtkMFcKSEBTCTngcwg5HLMJIGAfCbPUpwsQZB8IwUrLBuQIBwi6BvcEqMSnCUqXQwcvFGMK9WwzCiNf1wYFfJsI3aRvCCsP4wVMNAsIldybCdAH1wWJDEsJ2tRbCJtgcwouxFcI+1b3BV3wowtp3rcF2UAnCt5MHwhrPCsKEc/XB/bIOwiH0HMKqxwjCKQcZwlr1EMKVBa3B7h/rwTkLEcJgCf3BW+Umwms1BsLX6QzCy9wSwj+AFMKwBRPC4pEWwj+5GcJJayDCat4GwsbUDsJt/N7B3UoTwoWJssH+2xHCfzALwlKR2MGOUgrCD3YQwmbGFcI=\",\"dtype\":\"float32\",\"shape\":[89]},\"y\":{\"__ndarray__\":\"3ybLQN6WjkCxErZA9SciQGDlP0CKWgJBHqslQKdpiEFjjYE/gOqpQXvJ1D+MorlAIoCLQJknAkEqGZA/UMk8wPlQGb8/SJxAczeYQFNkMEFVeelAHuZcQUweFkH6CINBOoGmvxyjsUCcOwJBZR6HQFnXoUGt1oxBwjfzQLa+30A+yo1BVS27QW5n7EDjmoBBgfoLQRPZlEF9B+NAa7I1QaJ1JkD1N7FAIY9HQVqbtkEgiCdBEsaaQewK9UDyf9NAGAgtQV/NKr7FSnk/20RJP7VDgL8O7wpBEsD5QOZVe0EC5ShAyYKdQLjRj79kzuxBXm52QGaOB0HDYjRAWhRXQC6Ue7+vmjZBDEHBQCz9H0BOV6FBgpoOQdzscEAmtCpA6wKMQSkFdj9rT1hAW8zXQOTf+UA6FcVAwPogv9TQvj/5NdxAouT7QNW+hUFHqxJAfiASQKytKEFKt92/2UteQMJYmEE=\",\"dtype\":\"float32\",\"shape\":[89]}},\"selected\":{\"id\":\"1166\",\"type\":\"Selection\"},\"selection_policy\":{\"id\":\"1165\",\"type\":\"UnionRenderers\"}},\"id\":\"1121\",\"type\":\"ColumnDataSource\"},{\"attributes\":{\"fill_alpha\":{\"value\":0.1},\"fill_color\":{\"value\":\"#1f77b4\"},\"line_alpha\":{\"value\":0.1},\"line_color\":{\"value\":\"#1f77b4\"},\"size\":{\"units\":\"screen\",\"value\":7},\"x\":{\"field\":\"x\"},\"y\":{\"field\":\"y\"}},\"id\":\"1227\",\"type\":\"Circle\"},{\"attributes\":{\"items\":[{\"id\":\"1048\",\"type\":\"LegendItem\"},{\"id\":\"1063\",\"type\":\"LegendItem\"},{\"id\":\"1080\",\"type\":\"LegendItem\"},{\"id\":\"1099\",\"type\":\"LegendItem\"},{\"id\":\"1120\",\"type\":\"LegendItem\"},{\"id\":\"1143\",\"type\":\"LegendItem\"},{\"id\":\"1168\",\"type\":\"LegendItem\"},{\"id\":\"1195\",\"type\":\"LegendItem\"},{\"id\":\"1224\",\"type\":\"LegendItem\"},{\"id\":\"1255\",\"type\":\"LegendItem\"}],\"location\":\"bottom_right\",\"plot\":{\"id\":\"1001\",\"subtype\":\"Figure\",\"type\":\"Plot\"}},\"id\":\"1047\",\"type\":\"Legend\"},{\"attributes\":{\"data_source\":{\"id\":\"1225\",\"type\":\"ColumnDataSource\"},\"glyph\":{\"id\":\"1226\",\"type\":\"Circle\"},\"hover_glyph\":null,\"muted_glyph\":null,\"nonselection_glyph\":{\"id\":\"1227\",\"type\":\"Circle\"},\"selection_glyph\":null,\"view\":{\"id\":\"1229\",\"type\":\"CDSView\"}},\"id\":\"1228\",\"type\":\"GlyphRenderer\"},{\"attributes\":{\"fill_alpha\":{\"value\":0.4},\"fill_color\":{\"value\":\"yellow\"},\"line_alpha\":{\"value\":0.4},\"line_color\":{\"value\":\"yellow\"},\"size\":{\"units\":\"screen\",\"value\":7},\"x\":{\"field\":\"x\"},\"y\":{\"field\":\"y\"}},\"id\":\"1122\",\"type\":\"Circle\"},{\"attributes\":{\"fill_alpha\":{\"value\":0.1},\"fill_color\":{\"value\":\"#1f77b4\"},\"line_alpha\":{\"value\":0.1},\"line_color\":{\"value\":\"#1f77b4\"},\"size\":{\"units\":\"screen\",\"value\":7},\"x\":{\"field\":\"x\"},\"y\":{\"field\":\"y\"}},\"id\":\"1123\",\"type\":\"Circle\"},{\"attributes\":{\"source\":{\"id\":\"1225\",\"type\":\"ColumnDataSource\"}},\"id\":\"1229\",\"type\":\"CDSView\"},{\"attributes\":{\"data_source\":{\"id\":\"1121\",\"type\":\"ColumnDataSource\"},\"glyph\":{\"id\":\"1122\",\"type\":\"Circle\"},\"hover_glyph\":null,\"muted_glyph\":null,\"nonselection_glyph\":{\"id\":\"1123\",\"type\":\"Circle\"},\"selection_glyph\":null,\"view\":{\"id\":\"1125\",\"type\":\"CDSView\"}},\"id\":\"1124\",\"type\":\"GlyphRenderer\"},{\"attributes\":{\"callback\":null},\"id\":\"1002\",\"type\":\"DataRange1d\"},{\"attributes\":{\"fill_alpha\":{\"value\":0.4},\"fill_color\":{\"value\":\"green\"},\"line_alpha\":{\"value\":0.4},\"line_color\":{\"value\":\"green\"},\"size\":{\"units\":\"screen\",\"value\":7},\"x\":{\"field\":\"x\"},\"y\":{\"field\":\"y\"}},\"id\":\"1050\",\"type\":\"Circle\"},{\"attributes\":{},\"id\":\"1252\",\"type\":\"UnionRenderers\"},{\"attributes\":{\"callback\":null},\"id\":\"1004\",\"type\":\"DataRange1d\"},{\"attributes\":{\"fill_alpha\":{\"value\":0.1},\"fill_color\":{\"value\":\"#1f77b4\"},\"line_alpha\":{\"value\":0.1},\"line_color\":{\"value\":\"#1f77b4\"},\"size\":{\"units\":\"screen\",\"value\":7},\"x\":{\"field\":\"x\"},\"y\":{\"field\":\"y\"}},\"id\":\"1051\",\"type\":\"Circle\"},{\"attributes\":{\"source\":{\"id\":\"1121\",\"type\":\"ColumnDataSource\"}},\"id\":\"1125\",\"type\":\"CDSView\"},{\"attributes\":{},\"id\":\"1253\",\"type\":\"Selection\"},{\"attributes\":{},\"id\":\"1006\",\"type\":\"LinearScale\"},{\"attributes\":{\"data_source\":{\"id\":\"1049\",\"type\":\"ColumnDataSource\"},\"glyph\":{\"id\":\"1050\",\"type\":\"Circle\"},\"hover_glyph\":null,\"muted_glyph\":null,\"nonselection_glyph\":{\"id\":\"1051\",\"type\":\"Circle\"},\"selection_glyph\":null,\"view\":{\"id\":\"1053\",\"type\":\"CDSView\"}},\"id\":\"1052\",\"type\":\"GlyphRenderer\"},{\"attributes\":{\"label\":{\"value\":\"9\"},\"renderers\":[{\"id\":\"1228\",\"type\":\"GlyphRenderer\"}]},\"id\":\"1255\",\"type\":\"LegendItem\"},{\"attributes\":{},\"id\":\"1140\",\"type\":\"UnionRenderers\"},{\"attributes\":{},\"id\":\"1008\",\"type\":\"LinearScale\"},{\"attributes\":{\"source\":{\"id\":\"1049\",\"type\":\"ColumnDataSource\"}},\"id\":\"1053\",\"type\":\"CDSView\"},{\"attributes\":{},\"id\":\"1141\",\"type\":\"Selection\"},{\"attributes\":{},\"id\":\"1281\",\"type\":\"Selection\"},{\"attributes\":{\"formatter\":{\"id\":\"1043\",\"type\":\"BasicTickFormatter\"},\"plot\":{\"id\":\"1001\",\"subtype\":\"Figure\",\"type\":\"Plot\"},\"ticker\":{\"id\":\"1011\",\"type\":\"BasicTicker\"}},\"id\":\"1010\",\"type\":\"LinearAxis\"},{\"attributes\":{\"label\":{\"value\":\"5\"},\"renderers\":[{\"id\":\"1124\",\"type\":\"GlyphRenderer\"}]},\"id\":\"1143\",\"type\":\"LegendItem\"},{\"attributes\":{},\"id\":\"1060\",\"type\":\"UnionRenderers\"},{\"attributes\":{},\"id\":\"1011\",\"type\":\"BasicTicker\"},{\"attributes\":{},\"id\":\"1061\",\"type\":\"Selection\"},{\"attributes\":{},\"id\":\"1280\",\"type\":\"UnionRenderers\"},{\"attributes\":{\"label\":{\"value\":\"0\"},\"renderers\":[{\"id\":\"1038\",\"type\":\"GlyphRenderer\"}]},\"id\":\"1048\",\"type\":\"LegendItem\"},{\"attributes\":{\"callback\":null,\"data\":{\"x\":{\"__ndarray__\":\"8DmLQXX3wkCuiAtCD/z6QaHHfED+4EVByAz2QNGU+0F5qDhBcYbbQTz7qUF03KRBQZqCQa+OIEIWo2hBZ3ysQC/fAUIenQtCYWT5QEuJEkJzNjtBphJxQU5DEUJqL35BpNsCQpz2sUBAPvpBCNa9QV/dB0HLNAVBAYd/QUjR7EE1XhVC/02wQfikCkLaZKxBHkoqQbInIEHmYiNBKGOUQdXMCkFxRxxBdtsCQkGuCEF39YRB0z0ZQfwEIUKZrdlBmY0gQbqgBUIwqmlB/8KQQacCBkJixWxBwuw0Qd7mfkE+KXtB1noqQX7BBUKpP7hB858KQhtOrEFLpzFBLdZkQa/k4kCNKotBQhmkQVyY2kDTrtNBzbgCQu1FJEGllShBhdHmQbxc1EBUv8hBizscQsHMksCwHaVBBSoIQYGZ3EF50NJBl/gLQoGMX0EBdpxBnn+aQNXt20EFdmpBNf2eQJKSEkHz2xVB\",\"dtype\":\"float32\",\"shape\":[90]},\"y\":{\"__ndarray__\":\"VB6Hwf+XisB8qStBt+hZQRvpccHsEkPALcihwCQRukAmYPnB5FI2QbKuscFig57BkTU8QBkmrkDIrG7BBlK1wM/PNUEXDSdBrRApwI7/oUCqyNPBaLyqv998BEEYee7BrFsiQcryAcF9XhdBHymRQNDTFr9m8/3AZovywdVdEEFL+1JBCV67Pt9izEAaHJzBvHvfwQAFR8HDunvAuVqSQHJFQcDMqUrASnssQUHQicDGVjtAQHUivhjpXkFFy1pAfwiCwKDmyUCM+LzB5AmsQJxY2kC/mJfBcL8mwf+zPT8j9XHBk1JFwZJDyEBxax5AkHkPQf+TtMEjrvnBsKb0v7Gws8C/kIA/bH7fvzpztsAWb/1ASUMiQWgPA8L7KTfAnPZfQcm1AsH67KnBnXxVwGL2CcKy3tdANQWVwNXoMkDP4ohAwUYjQSO0V0B/SwXAbGjxwNCQukDshFi/x4KKwFLmIsBWJ43A\",\"dtype\":\"float32\",\"shape\":[90]}},\"selected\":{\"id\":\"1193\",\"type\":\"Selection\"},\"selection_policy\":{\"id\":\"1192\",\"type\":\"UnionRenderers\"}},\"id\":\"1144\",\"type\":\"ColumnDataSource\"},{\"attributes\":{\"label\":{\"value\":\"1\"},\"renderers\":[{\"id\":\"1052\",\"type\":\"GlyphRenderer\"}]},\"id\":\"1063\",\"type\":\"LegendItem\"},{\"attributes\":{\"plot\":{\"id\":\"1001\",\"subtype\":\"Figure\",\"type\":\"Plot\"},\"ticker\":{\"id\":\"1011\",\"type\":\"BasicTicker\"}},\"id\":\"1014\",\"type\":\"Grid\"},{\"attributes\":{\"fill_alpha\":{\"value\":0.4},\"fill_color\":{\"value\":\"black\"},\"line_alpha\":{\"value\":0.4},\"size\":{\"units\":\"screen\",\"value\":7},\"x\":{\"field\":\"x\"},\"y\":{\"field\":\"y\"}},\"id\":\"1145\",\"type\":\"Circle\"},{\"attributes\":{\"formatter\":{\"id\":\"1045\",\"type\":\"BasicTickFormatter\"},\"plot\":{\"id\":\"1001\",\"subtype\":\"Figure\",\"type\":\"Plot\"},\"ticker\":{\"id\":\"1016\",\"type\":\"BasicTicker\"}},\"id\":\"1015\",\"type\":\"LinearAxis\"},{\"attributes\":{\"callback\":null,\"data\":{\"x\":{\"__ndarray__\":\"tSgpQsNOFkF/DSNCpOIlQnRRJ0L83atBB7woQs1nJkKYGAJBbvUgQrK3I0EV1w9C8MPtQXWSB0H1YSJCBHaAQY40JUK4+QRCt6N4QYrgE0LAM85BY7kIQtEwJkK9bRVCOnGsQbasDUKvGyZCqjdUQY3wKUKX1qRBTz5IQdPKIEIIoSRCcDhkQakHF0K17aZBc1sOQsKhhUF5KlhBJ4uvQVTazkG1JCVCL0aWQfExJkIt82VBZwl7Qa7XKUIfG+5BZkTYQH3jW0EvGy9CyX2hQShsx0Hv++5BaROYQQwoCkJW8N5Bf1a3QBBuFULG3rBBmedtQRkyp0AytAhCBAWbQb0j30AUaxZCy44fQkQ2J0JiAWVBLH6BQDO0JkKBJa5Bm+8eQol1aEGEIxRCUuQWQks6BkJmq8lBcv8rQqOsHkLu+TlBc31+QVIfzEDw62NB5SQgQrGBJEJvMwZCUhcdQkaRKUJRmd5BwFCEQVKwFkIlxmhBH5QhQjQyBkJoU+lB\",\"dtype\":\"float32\",\"shape\":[96]},\"y\":{\"__ndarray__\":\"msxEQCz6ssDAHitBd5wIQXYgzT/1mNQ+FEaFQK+zPkBQCVbAg1H0QAIZkr/L0ilA2ENjQKbZ5r+ClyVBiyaSQCs2hkAVtuM/g/QlQAOUi0FBWue/tEmgQFPxd0C6ghRBDxuYQFanZkE5O0FB4q8yPwtANkF3MPhARlEmv8CpN0Em16FAgw8tP427KkEM9jlA0I4AQCHg7b+P3ABAmCenQCIV2UBwlPhAGl2mP8cKPUH/spK9Qp8YQFZmVkCH20VBxU0swEIio788wQdBjrR5Po0+hkBbcyBBIj/QQP7RpkC2IhU+5H7EwCtMdMCVSbY/JFtnP5ubwMA8fLpA4wUFQXc4icAFSCRBj8kuQaF3yUDPs4hAt6nNwHuOTkFv81M/8ehQQc6XX8Cr7DlBSckmwG2rLMCN7va/egF6QNgdc0Gvius+WJfFP2fL1sAajPA/UsWCQKe7YEHRY78/xPUbQd2fWkHrk+tA3ciYv6MsM0GFnbk/7J3+QJtzJcDWBDFB\",\"dtype\":\"float32\",\"shape\":[96]}},\"selected\":{\"id\":\"1097\",\"type\":\"Selection\"},\"selection_policy\":{\"id\":\"1096\",\"type\":\"UnionRenderers\"}},\"id\":\"1064\",\"type\":\"ColumnDataSource\"},{\"attributes\":{\"fill_alpha\":{\"value\":0.1},\"fill_color\":{\"value\":\"#1f77b4\"},\"line_alpha\":{\"value\":0.1},\"line_color\":{\"value\":\"#1f77b4\"},\"size\":{\"units\":\"screen\",\"value\":7},\"x\":{\"field\":\"x\"},\"y\":{\"field\":\"y\"}},\"id\":\"1146\",\"type\":\"Circle\"},{\"attributes\":{\"data_source\":{\"id\":\"1144\",\"type\":\"ColumnDataSource\"},\"glyph\":{\"id\":\"1145\",\"type\":\"Circle\"},\"hover_glyph\":null,\"muted_glyph\":null,\"nonselection_glyph\":{\"id\":\"1146\",\"type\":\"Circle\"},\"selection_glyph\":null,\"view\":{\"id\":\"1148\",\"type\":\"CDSView\"}},\"id\":\"1147\",\"type\":\"GlyphRenderer\"},{\"attributes\":{},\"id\":\"1016\",\"type\":\"BasicTicker\"},{\"attributes\":{\"fill_alpha\":{\"value\":0.4},\"fill_color\":{\"value\":\"red\"},\"line_alpha\":{\"value\":0.4},\"line_color\":{\"value\":\"red\"},\"size\":{\"units\":\"screen\",\"value\":7},\"x\":{\"field\":\"x\"},\"y\":{\"field\":\"y\"}},\"id\":\"1065\",\"type\":\"Circle\"},{\"attributes\":{},\"id\":\"1077\",\"type\":\"UnionRenderers\"},{\"attributes\":{\"dimension\":1,\"plot\":{\"id\":\"1001\",\"subtype\":\"Figure\",\"type\":\"Plot\"},\"ticker\":{\"id\":\"1016\",\"type\":\"BasicTicker\"}},\"id\":\"1019\",\"type\":\"Grid\"},{\"attributes\":{\"fill_alpha\":{\"value\":0.1},\"fill_color\":{\"value\":\"#1f77b4\"},\"line_alpha\":{\"value\":0.1},\"line_color\":{\"value\":\"#1f77b4\"},\"size\":{\"units\":\"screen\",\"value\":7},\"x\":{\"field\":\"x\"},\"y\":{\"field\":\"y\"}},\"id\":\"1066\",\"type\":\"Circle\"},{\"attributes\":{\"source\":{\"id\":\"1144\",\"type\":\"ColumnDataSource\"}},\"id\":\"1148\",\"type\":\"CDSView\"},{\"attributes\":{\"data_source\":{\"id\":\"1064\",\"type\":\"ColumnDataSource\"},\"glyph\":{\"id\":\"1065\",\"type\":\"Circle\"},\"hover_glyph\":null,\"muted_glyph\":null,\"nonselection_glyph\":{\"id\":\"1066\",\"type\":\"Circle\"},\"selection_glyph\":null,\"view\":{\"id\":\"1068\",\"type\":\"CDSView\"}},\"id\":\"1067\",\"type\":\"GlyphRenderer\"},{\"attributes\":{},\"id\":\"1165\",\"type\":\"UnionRenderers\"},{\"attributes\":{\"source\":{\"id\":\"1064\",\"type\":\"ColumnDataSource\"}},\"id\":\"1068\",\"type\":\"CDSView\"},{\"attributes\":{},\"id\":\"1166\",\"type\":\"Selection\"},{\"attributes\":{\"label\":{\"value\":\"6\"},\"renderers\":[{\"id\":\"1147\",\"type\":\"GlyphRenderer\"}]},\"id\":\"1168\",\"type\":\"LegendItem\"},{\"attributes\":{},\"id\":\"1020\",\"type\":\"PanTool\"}],\"root_ids\":[\"1001\"]},\"title\":\"Bokeh Application\",\"version\":\"1.0.4\"}};\n",
              "  var render_items = [{\"docid\":\"dcb6851b-cdff-4c3e-ad06-3db7eb627c50\",\"roots\":{\"1001\":\"1d9834bd-327a-4e6c-ab61-44fbaf62a619\"}}];\n",
              "  root.Bokeh.embed.embed_items_notebook(docs_json, render_items);\n",
              "\n",
              "  }\n",
              "  if (root.Bokeh !== undefined) {\n",
              "    embed_document(root);\n",
              "  } else {\n",
              "    var attempts = 0;\n",
              "    var timer = setInterval(function(root) {\n",
              "      if (root.Bokeh !== undefined) {\n",
              "        embed_document(root);\n",
              "        clearInterval(timer);\n",
              "      }\n",
              "      attempts++;\n",
              "      if (attempts > 100) {\n",
              "        console.log(\"Bokeh: ERROR: Unable to run BokehJS code because BokehJS library is missing\");\n",
              "        clearInterval(timer);\n",
              "      }\n",
              "    }, 10, root)\n",
              "  }\n",
              "})(window);"
            ],
            "application/vnd.bokehjs_exec.v0+json": ""
          },
          "metadata": {
            "tags": [],
            "application/vnd.bokehjs_exec.v0+json": {
              "id": "1001"
            }
          }
        }
      ]
    },
    {
      "cell_type": "markdown",
      "metadata": {
        "id": "sVRVUh8uALlT"
      },
      "source": [
        "#### Note: We used `default` TSNE parameters. Better results can be achieved by tuning TSNE Hyper-parameters"
      ]
    },
    {
      "cell_type": "code",
      "metadata": {
        "id": "W-yohB-QrJ4v"
      },
      "source": [
        ""
      ],
      "execution_count": null,
      "outputs": []
    }
  ]
}